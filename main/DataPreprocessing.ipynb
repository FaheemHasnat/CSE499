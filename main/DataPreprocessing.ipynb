{
  "nbformat": 4,
  "nbformat_minor": 0,
  "metadata": {
    "colab": {
      "provenance": [],
      "gpuType": "T4"
    },
    "kernelspec": {
      "name": "python3",
      "display_name": "Python 3"
    },
    "language_info": {
      "name": "python"
    },
    "accelerator": "GPU"
  },
  "cells": [
    {
      "cell_type": "markdown",
      "source": [
        "**Imports and Setup**"
      ],
      "metadata": {
        "id": "cYKAatI398qu"
      }
    },
    {
      "cell_type": "markdown",
      "source": [
        "Install packages"
      ],
      "metadata": {
        "id": "r4n48gwj-IGJ"
      }
    },
    {
      "cell_type": "code",
      "source": [
        "!pip install -q torch torchvision transformers datasets pillow pandas scikit-learn tqdm matplotlib huggingface_hub"
      ],
      "metadata": {
        "id": "MfudFM6D-N8f"
      },
      "execution_count": 3,
      "outputs": []
    },
    {
      "cell_type": "markdown",
      "source": [
        "Imports"
      ],
      "metadata": {
        "id": "SUVM2mq8-aGx"
      }
    },
    {
      "cell_type": "code",
      "execution_count": 4,
      "metadata": {
        "id": "Q3yg8oNdcVUC"
      },
      "outputs": [],
      "source": [
        "import os\n",
        "import zipfile\n",
        "import pandas as pd\n",
        "import numpy as np\n",
        "import torch\n",
        "from PIL import Image\n",
        "from tqdm import tqdm\n",
        "from sklearn.model_selection import train_test_split\n",
        "from transformers import CLIPProcessor, CLIPModel\n",
        "import matplotlib.pyplot as plt\n",
        "from google.colab import drive"
      ]
    },
    {
      "cell_type": "markdown",
      "source": [
        "Connetcting Dataset from drive"
      ],
      "metadata": {
        "id": "EQfp_1Gv-3r3"
      }
    },
    {
      "cell_type": "code",
      "source": [
        "drive.mount('/content/drive')\n",
        "\n",
        "#path of datasets\n",
        "base_dir = \"/content/drive/MyDrive/499A Datasets\""
      ],
      "metadata": {
        "colab": {
          "base_uri": "https://localhost:8080/"
        },
        "id": "eO8YLkmf-7Fx",
        "outputId": "20cee8eb-2aa0-4cf9-8281-8252d7ae1c0a"
      },
      "execution_count": 6,
      "outputs": [
        {
          "output_type": "stream",
          "name": "stdout",
          "text": [
            "Mounted at /content/drive\n"
          ]
        }
      ]
    },
    {
      "cell_type": "markdown",
      "source": [
        "Helper Function for safe extraction of Datasets"
      ],
      "metadata": {
        "id": "Y4R3enLCEyeg"
      }
    },
    {
      "cell_type": "code",
      "source": [
        "def safe_extract(zip_path, extract_to):\n",
        "    \"\"\"\n",
        "    Safely extracts a single zip file with error handling.\n",
        "    Works for datasets with normal folder structures (no nested zips).\n",
        "    \"\"\"\n",
        "    if not os.path.exists(zip_path):\n",
        "        print(f\"File not found: {zip_path}\")\n",
        "        return False\n",
        "\n",
        "    try:\n",
        "        if not os.path.exists(extract_to):\n",
        "            os.makedirs(extract_to, exist_ok=True)\n",
        "\n",
        "        with zipfile.ZipFile(zip_path, 'r') as zip_ref:\n",
        "            zip_ref.extractall(extract_to)\n",
        "\n",
        "        print(f\"Extracted: {os.path.basename(zip_path)} → {extract_to}\")\n",
        "        return True\n",
        "\n",
        "    except zipfile.BadZipFile:\n",
        "        print(f\"Error: Cannot extract {zip_path}. File may be corrupted.\")\n",
        "    except Exception as e:\n",
        "        print(f\"Unexpected error while extracting {zip_path}: {e}\")\n",
        "\n",
        "    return False"
      ],
      "metadata": {
        "id": "ioPkGtQdE4fe"
      },
      "execution_count": 7,
      "outputs": []
    },
    {
      "cell_type": "markdown",
      "source": [
        "Optional: because of directory name cahnged"
      ],
      "metadata": {
        "id": "nsAcje6TTxzx"
      }
    },
    {
      "cell_type": "code",
      "source": [
        "old_path = os.path.join(base_dir, \"Dermnet (1)\")\n",
        "new_path = os.path.join(base_dir, \"Dermnet\")\n",
        "\n",
        "# Check before renaming\n",
        "if os.path.exists(old_path):\n",
        "    if not os.path.exists(new_path):\n",
        "        os.rename(old_path, new_path)\n",
        "        print(f\"Renamed '{old_path}' → '{new_path}'\")\n",
        "    else:\n",
        "        print(f\"Folder '{new_path}' already exists. Not renaming to avoid conflict.\")\n",
        "else:\n",
        "    print(f\"Folder not found: {old_path}\")"
      ],
      "metadata": {
        "colab": {
          "base_uri": "https://localhost:8080/"
        },
        "id": "8TfY4tdLS9LL",
        "outputId": "6c9e4c5e-cba8-48ea-b21b-c8270f4da9b6"
      },
      "execution_count": 8,
      "outputs": [
        {
          "output_type": "stream",
          "name": "stdout",
          "text": [
            "Folder not found: /content/drive/MyDrive/499A Datasets/Dermnet (1)\n"
          ]
        }
      ]
    },
    {
      "cell_type": "markdown",
      "source": [
        "Extracting zip files for preprocessing of datasets"
      ],
      "metadata": {
        "id": "U4KTmcnf_T3n"
      }
    },
    {
      "cell_type": "code",
      "source": [
        "skincon_zip = os.path.join(base_dir, \"Skincon/skincon.zip\")\n",
        "dermnet_zip = os.path.join(base_dir, \"Dermnet/dermnet.zip\")\n",
        "herb_zip    = os.path.join(base_dir, \"Herb2.0/herb2.zip\")\n",
        "\n",
        "# Extraction folders\n",
        "skincon_extract = os.path.join(base_dir, \"Skincon/extracted\")\n",
        "dermnet_extract = os.path.join(base_dir, \"Dermnet/extracted\")\n",
        "herb_extract    = os.path.join(base_dir, \"Herb2.0/extracted\")\n",
        "\n",
        "# extraction\n",
        "print(\"🔹 Starting extraction...\\n\")\n",
        "safe_extract(skincon_zip, skincon_extract)\n",
        "safe_extract(dermnet_zip, dermnet_extract)\n",
        "safe_extract(herb_zip, herb_extract)\n",
        "\n",
        "# Verify extracted folder structures\n",
        "print(\"\\nVerifying extracted datasets...\")\n",
        "\n",
        "for dataset_name, extract_path in [\n",
        "    (\"Skincon\", skincon_extract),\n",
        "    (\"Dermnet\", dermnet_extract),\n",
        "    (\"Herb2.0\", herb_extract)\n",
        "]:\n",
        "    if os.path.exists(extract_path):\n",
        "        print(f\"\\n{dataset_name} structure:\")\n",
        "        for root, dirs, _ in os.walk(extract_path):\n",
        "            print(f\"  {root}\")\n",
        "            for d in dirs[:5]:\n",
        "                print(f\"    {d}\")\n",
        "            break\n",
        "    else:\n",
        "        print(f\"{dataset_name}: Extraction folder not found.\")"
      ],
      "metadata": {
        "colab": {
          "base_uri": "https://localhost:8080/"
        },
        "id": "OKTphb-A_YnH",
        "outputId": "96894f6a-5afd-4a07-bf5f-0e4545a083ea"
      },
      "execution_count": 11,
      "outputs": [
        {
          "output_type": "stream",
          "name": "stdout",
          "text": [
            "🔹 Starting extraction...\n",
            "\n",
            "Extracted: skincon.zip → /content/drive/MyDrive/499A Datasets/Skincon/extracted\n",
            "Extracted: dermnet.zip → /content/drive/MyDrive/499A Datasets/Dermnet/extracted\n",
            "Extracted: herb2.zip → /content/drive/MyDrive/499A Datasets/Herb2.0/extracted\n",
            "\n",
            "Verifying extracted datasets...\n",
            "\n",
            "Skincon structure:\n",
            "  /content/drive/MyDrive/499A Datasets/Skincon/extracted\n",
            "\n",
            "Dermnet structure:\n",
            "  /content/drive/MyDrive/499A Datasets/Dermnet/extracted\n",
            "    test\n",
            "    train\n",
            "\n",
            "Herb2.0 structure:\n",
            "  /content/drive/MyDrive/499A Datasets/Herb2.0/extracted\n"
          ]
        }
      ]
    },
    {
      "cell_type": "markdown",
      "source": [
        "# **Preprocessing**"
      ],
      "metadata": {
        "id": "M4aWeP0hVmDn"
      }
    },
    {
      "cell_type": "markdown",
      "source": [
        "**Dermnet Dataset**"
      ],
      "metadata": {
        "id": "IYt-St8CVsS0"
      }
    },
    {
      "cell_type": "code",
      "source": [
        "def count_images_per_class(base_path):\n",
        "    \"\"\"\n",
        "    Counts number of images per class inside train/ and test/ folders.\n",
        "    \"\"\"\n",
        "    for subset in ['train', 'test']:\n",
        "        subset_path = os.path.join(base_path, subset)\n",
        "        if not os.path.exists(subset_path):\n",
        "            print(f\"Missing folder: {subset_path}\")\n",
        "            continue\n",
        "\n",
        "        print(f\"\\nImage counts for {subset.upper()}:\")\n",
        "        total_images = 0\n",
        "        for class_name in sorted(os.listdir(subset_path)):\n",
        "            class_path = os.path.join(subset_path, class_name)\n",
        "            if os.path.isdir(class_path):\n",
        "                num_images = len([\n",
        "                    f for f in os.listdir(class_path)\n",
        "                    if f.lower().endswith(('.jpg', '.jpeg', '.png'))\n",
        "                ])\n",
        "                print(f\"  {class_name[:45]:45} → {num_images:5d} images\")\n",
        "                total_images += num_images\n",
        "        print(f\"  Total images in {subset}: {total_images:,}\")\n",
        "\n",
        "# Run for Dermnet\n",
        "dermnet_base = \"/content/drive/MyDrive/499A Datasets/Dermnet/extracted\"\n",
        "count_images_per_class(dermnet_base)\n"
      ],
      "metadata": {
        "colab": {
          "base_uri": "https://localhost:8080/"
        },
        "id": "vZjBQibPVuq4",
        "outputId": "b1b464da-35b0-4e89-d8b4-380c621c3bcb"
      },
      "execution_count": 12,
      "outputs": [
        {
          "output_type": "stream",
          "name": "stdout",
          "text": [
            "\n",
            "Image counts for TRAIN:\n",
            "  Acne and Rosacea Photos                       →   840 images\n",
            "  Actinic Keratosis Basal Cell Carcinoma and ot →  1149 images\n",
            "  Atopic Dermatitis Photos                      →   489 images\n",
            "  Bullous Disease Photos                        →   448 images\n",
            "  Cellulitis Impetigo and other Bacterial Infec →   288 images\n",
            "  Eczema Photos                                 →  1235 images\n",
            "  Exanthems and Drug Eruptions                  →   404 images\n",
            "  Hair Loss Photos Alopecia and other Hair Dise →   239 images\n",
            "  Herpes HPV and other STDs Photos              →   405 images\n",
            "  Light Diseases and Disorders of Pigmentation  →   568 images\n",
            "  Lupus and other Connective Tissue diseases    →   420 images\n",
            "  Melanoma Skin Cancer Nevi and Moles           →   463 images\n",
            "  Nail Fungus and other Nail Disease            →  1040 images\n",
            "  Poison Ivy Photos and other Contact Dermatiti →   260 images\n",
            "  Psoriasis pictures Lichen Planus and related  →  1405 images\n",
            "  Scabies Lyme Disease and other Infestations a →   431 images\n",
            "  Seborrheic Keratoses and other Benign Tumors  →  1371 images\n",
            "  Systemic Disease                              →   606 images\n",
            "  Tinea Ringworm Candidiasis and other Fungal I →  1300 images\n",
            "  Urticaria Hives                               →   212 images\n",
            "  Vascular Tumors                               →   482 images\n",
            "  Vasculitis Photos                             →   416 images\n",
            "  Warts Molluscum and other Viral Infections    →  1086 images\n",
            "  Total images in train: 15,557\n",
            "\n",
            "Image counts for TEST:\n",
            "  Acne and Rosacea Photos                       →   312 images\n",
            "  Actinic Keratosis Basal Cell Carcinoma and ot →   288 images\n",
            "  Atopic Dermatitis Photos                      →   123 images\n",
            "  Bullous Disease Photos                        →   113 images\n",
            "  Cellulitis Impetigo and other Bacterial Infec →    73 images\n",
            "  Eczema Photos                                 →   309 images\n",
            "  Exanthems and Drug Eruptions                  →   101 images\n",
            "  Hair Loss Photos Alopecia and other Hair Dise →    60 images\n",
            "  Herpes HPV and other STDs Photos              →   102 images\n",
            "  Light Diseases and Disorders of Pigmentation  →   143 images\n",
            "  Lupus and other Connective Tissue diseases    →   105 images\n",
            "  Melanoma Skin Cancer Nevi and Moles           →   116 images\n",
            "  Nail Fungus and other Nail Disease            →   261 images\n",
            "  Poison Ivy Photos and other Contact Dermatiti →    65 images\n",
            "  Psoriasis pictures Lichen Planus and related  →   352 images\n",
            "  Scabies Lyme Disease and other Infestations a →   108 images\n",
            "  Seborrheic Keratoses and other Benign Tumors  →   343 images\n",
            "  Systemic Disease                              →   152 images\n",
            "  Tinea Ringworm Candidiasis and other Fungal I →   325 images\n",
            "  Urticaria Hives                               →    53 images\n",
            "  Vascular Tumors                               →   121 images\n",
            "  Vasculitis Photos                             →   105 images\n",
            "  Warts Molluscum and other Viral Infections    →   272 images\n",
            "  Total images in test: 4,002\n"
          ]
        }
      ]
    },
    {
      "cell_type": "code",
      "source": [
        "# Base path\n",
        "dermnet_base = \"/content/drive/MyDrive/499A Datasets/Dermnet/extracted\"\n",
        "\n",
        "# Output path\n",
        "dermnet_preproc = \"/content/drive/MyDrive/499A Datasets/Dermnet/preprocessed\"\n",
        "os.makedirs(dermnet_preproc, exist_ok=True)"
      ],
      "metadata": {
        "id": "_XOWSnAaZn_Z"
      },
      "execution_count": 13,
      "outputs": []
    },
    {
      "cell_type": "markdown",
      "source": [
        "Defining parameters"
      ],
      "metadata": {
        "id": "YvIltgVjZt4_"
      }
    },
    {
      "cell_type": "code",
      "source": [
        "IMAGE_SIZE = (224, 224)\n",
        "VALID_EXT = (\".jpg\", \".jpeg\", \".png\")"
      ],
      "metadata": {
        "id": "PosgVFahZwNj"
      },
      "execution_count": 14,
      "outputs": []
    },
    {
      "cell_type": "markdown",
      "source": [
        "Image preprocessing function"
      ],
      "metadata": {
        "id": "ejJGl8oqZ5yc"
      }
    },
    {
      "cell_type": "code",
      "source": [
        "def preprocess_images(src_root, dest_root):\n",
        "    records = []\n",
        "    os.makedirs(dest_root, exist_ok=True)\n",
        "\n",
        "    for subset in [\"train\", \"test\"]:\n",
        "        subset_src = os.path.join(src_root, subset)\n",
        "        subset_dest = os.path.join(dest_root, subset)\n",
        "        os.makedirs(subset_dest, exist_ok=True)\n",
        "\n",
        "        for cls in tqdm(sorted(os.listdir(subset_src)), desc=f\"Processing {subset}\"):\n",
        "            cls_src = os.path.join(subset_src, cls)\n",
        "            if not os.path.isdir(cls_src):\n",
        "                continue\n",
        "\n",
        "            cls_name_clean = cls.strip().replace(\"/\", \"-\").replace(\"\\\\\", \"-\")\n",
        "            cls_dest = os.path.join(subset_dest, cls_name_clean)\n",
        "            os.makedirs(cls_dest, exist_ok=True)\n",
        "\n",
        "            for fname in os.listdir(cls_src):\n",
        "                if fname.lower().endswith(VALID_EXT):\n",
        "                    src_path = os.path.join(cls_src, fname)\n",
        "                    dest_path = os.path.join(cls_dest, fname)\n",
        "\n",
        "                    try:\n",
        "                        img = Image.open(src_path).convert(\"RGB\")\n",
        "                        img = img.resize(IMAGE_SIZE)\n",
        "                        img.save(dest_path, \"JPEG\", quality=95)\n",
        "\n",
        "                        records.append({\n",
        "                            \"subset\": subset,\n",
        "                            \"class_name\": cls_name_clean,\n",
        "                            \"image_path\": dest_path\n",
        "                        })\n",
        "                    except Exception as e:\n",
        "                        print(f\"Skipped {src_path}: {e}\")\n",
        "\n",
        "    return pd.DataFrame(records)"
      ],
      "metadata": {
        "id": "8uMm7-3vZ5L0"
      },
      "execution_count": 15,
      "outputs": []
    },
    {
      "cell_type": "markdown",
      "source": [
        "Run and save metadata"
      ],
      "metadata": {
        "id": "8-Whf3J4cINN"
      }
    },
    {
      "cell_type": "code",
      "source": [
        "df_dermnet = preprocess_images(dermnet_base, dermnet_preproc)\n",
        "df_dermnet.to_csv(os.path.join(dermnet_preproc, \"metadata.csv\"), index=False)\n",
        "\n",
        "print(\"\\nDermNet preprocessing complete.\")\n",
        "print(df_dermnet.head())\n",
        "print(f\"Total images processed: {len(df_dermnet)}\")"
      ],
      "metadata": {
        "colab": {
          "base_uri": "https://localhost:8080/"
        },
        "id": "ZZcjDXjncLj_",
        "outputId": "dc944e96-74ec-437e-de80-548ac0bd7270"
      },
      "execution_count": 16,
      "outputs": [
        {
          "output_type": "stream",
          "name": "stderr",
          "text": [
            "Processing train: 100%|██████████| 23/23 [10:23<00:00, 27.11s/it]\n",
            "Processing test: 100%|██████████| 23/23 [02:02<00:00,  5.32s/it]\n"
          ]
        },
        {
          "output_type": "stream",
          "name": "stdout",
          "text": [
            "\n",
            "DermNet preprocessing complete.\n",
            "  subset               class_name  \\\n",
            "0  train  Acne and Rosacea Photos   \n",
            "1  train  Acne and Rosacea Photos   \n",
            "2  train  Acne and Rosacea Photos   \n",
            "3  train  Acne and Rosacea Photos   \n",
            "4  train  Acne and Rosacea Photos   \n",
            "\n",
            "                                          image_path  \n",
            "0  /content/drive/MyDrive/499A Datasets/Dermnet/p...  \n",
            "1  /content/drive/MyDrive/499A Datasets/Dermnet/p...  \n",
            "2  /content/drive/MyDrive/499A Datasets/Dermnet/p...  \n",
            "3  /content/drive/MyDrive/499A Datasets/Dermnet/p...  \n",
            "4  /content/drive/MyDrive/499A Datasets/Dermnet/p...  \n",
            "Total images processed: 19559\n"
          ]
        }
      ]
    },
    {
      "cell_type": "markdown",
      "source": [
        "Load metadata and inspects class name"
      ],
      "metadata": {
        "id": "XtQF45l3nyp1"
      }
    },
    {
      "cell_type": "code",
      "source": [
        "dermnet_meta_path = \"/content/drive/MyDrive/499A Datasets/Dermnet/preprocessed/metadata.csv\"\n",
        "df = pd.read_csv(dermnet_meta_path)\n",
        "\n",
        "print(\"Unique classes:\", len(df['class_name'].unique()))\n",
        "print(df['class_name'].unique()[:5])"
      ],
      "metadata": {
        "colab": {
          "base_uri": "https://localhost:8080/"
        },
        "id": "xzSd3-ompHNT",
        "outputId": "2e4ae20d-7fde-4192-d835-c62bcb2a62bd"
      },
      "execution_count": 17,
      "outputs": [
        {
          "output_type": "stream",
          "name": "stdout",
          "text": [
            "Unique classes: 23\n",
            "['Acne and Rosacea Photos'\n",
            " 'Actinic Keratosis Basal Cell Carcinoma and other Malignant Lesions'\n",
            " 'Atopic Dermatitis Photos' 'Bullous Disease Photos'\n",
            " 'Cellulitis Impetigo and other Bacterial Infections']\n"
          ]
        }
      ]
    },
    {
      "cell_type": "markdown",
      "source": [
        "Clean Class names"
      ],
      "metadata": {
        "id": "sc64VHFhpbA4"
      }
    },
    {
      "cell_type": "code",
      "source": [
        "def clean_class_name(name):\n",
        "    name = name.lower().replace(\"photos\", \"\").replace(\"pictures\", \"\")\n",
        "    name = name.replace(\"images\", \"\").replace(\"disease\", \"\").replace(\"diseases\", \"\")\n",
        "    name = name.replace(\"and\", \"&\").replace(\"  \", \" \").strip()\n",
        "    return name"
      ],
      "metadata": {
        "id": "VoLIle3Ypc_e"
      },
      "execution_count": 18,
      "outputs": []
    },
    {
      "cell_type": "markdown",
      "source": [
        "Normalize each class name with consice medical phrase"
      ],
      "metadata": {
        "id": "A2y1F1ILpkK4"
      }
    },
    {
      "cell_type": "code",
      "source": [
        "df[\"class_name_clean\"] = df[\"class_name\"].apply(clean_class_name)"
      ],
      "metadata": {
        "id": "0AyENaORpi57"
      },
      "execution_count": 19,
      "outputs": []
    },
    {
      "cell_type": "markdown",
      "source": [
        "Creates descriptive text prompts"
      ],
      "metadata": {
        "id": "NHTmwellpq1t"
      }
    },
    {
      "cell_type": "code",
      "source": [
        "import random\n",
        "\n",
        "templates = [\n",
        "    \"Image of human skin showing {}.\",\n",
        "    \"Clinical photo depicting {}.\",\n",
        "    \"Dermatological image illustrating {}.\",\n",
        "    \"A patient presenting with {}.\",\n",
        "    \"Close-up skin lesion associated with {}.\",\n",
        "    \"Photo of dermatologic condition: {}.\",\n",
        "]\n",
        "\n",
        "def generate_prompts(condition_name):\n",
        "    # produce 2–3 varied captions per entry\n",
        "    n = random.randint(2, 3)\n",
        "    condition = condition_name\n",
        "    return [t.format(condition) for t in random.sample(templates, n)]\n"
      ],
      "metadata": {
        "id": "_QHmDY1sp2f6"
      },
      "execution_count": 20,
      "outputs": []
    },
    {
      "cell_type": "markdown",
      "source": [
        "Expand metadata with augmented text"
      ],
      "metadata": {
        "id": "SCjyMMVaqC08"
      }
    },
    {
      "cell_type": "code",
      "source": [
        "rows = []\n",
        "for _, row in df.iterrows():\n",
        "    for caption in generate_prompts(row[\"class_name_clean\"]):\n",
        "        rows.append({\n",
        "            \"subset\": row[\"subset\"],\n",
        "            \"class_name\": row[\"class_name\"],\n",
        "            \"image_path\": row[\"image_path\"],\n",
        "            \"text_prompt\": caption\n",
        "        })\n",
        "\n",
        "df_aug = pd.DataFrame(rows)\n",
        "print(\"Generated augmented captions:\", len(df_aug))\n",
        "df_aug.head(3)\n"
      ],
      "metadata": {
        "colab": {
          "base_uri": "https://localhost:8080/",
          "height": 160
        },
        "id": "Hd2P8iowqHEN",
        "outputId": "867b65fc-8353-4347-fd7e-3a5008b870bf"
      },
      "execution_count": 21,
      "outputs": [
        {
          "output_type": "stream",
          "name": "stdout",
          "text": [
            "Generated augmented captions: 48956\n"
          ]
        },
        {
          "output_type": "execute_result",
          "data": {
            "text/plain": [
              "  subset               class_name  \\\n",
              "0  train  Acne and Rosacea Photos   \n",
              "1  train  Acne and Rosacea Photos   \n",
              "2  train  Acne and Rosacea Photos   \n",
              "\n",
              "                                          image_path  \\\n",
              "0  /content/drive/MyDrive/499A Datasets/Dermnet/p...   \n",
              "1  /content/drive/MyDrive/499A Datasets/Dermnet/p...   \n",
              "2  /content/drive/MyDrive/499A Datasets/Dermnet/p...   \n",
              "\n",
              "                                        text_prompt  \n",
              "0  Photo of dermatologic condition: acne & rosacea.  \n",
              "1          Clinical photo depicting acne & rosacea.  \n",
              "2       Image of human skin showing acne & rosacea.  "
            ],
            "text/html": [
              "\n",
              "  <div id=\"df-7f661233-694e-4bc2-a12b-8b70f30c1525\" class=\"colab-df-container\">\n",
              "    <div>\n",
              "<style scoped>\n",
              "    .dataframe tbody tr th:only-of-type {\n",
              "        vertical-align: middle;\n",
              "    }\n",
              "\n",
              "    .dataframe tbody tr th {\n",
              "        vertical-align: top;\n",
              "    }\n",
              "\n",
              "    .dataframe thead th {\n",
              "        text-align: right;\n",
              "    }\n",
              "</style>\n",
              "<table border=\"1\" class=\"dataframe\">\n",
              "  <thead>\n",
              "    <tr style=\"text-align: right;\">\n",
              "      <th></th>\n",
              "      <th>subset</th>\n",
              "      <th>class_name</th>\n",
              "      <th>image_path</th>\n",
              "      <th>text_prompt</th>\n",
              "    </tr>\n",
              "  </thead>\n",
              "  <tbody>\n",
              "    <tr>\n",
              "      <th>0</th>\n",
              "      <td>train</td>\n",
              "      <td>Acne and Rosacea Photos</td>\n",
              "      <td>/content/drive/MyDrive/499A Datasets/Dermnet/p...</td>\n",
              "      <td>Photo of dermatologic condition: acne &amp; rosacea.</td>\n",
              "    </tr>\n",
              "    <tr>\n",
              "      <th>1</th>\n",
              "      <td>train</td>\n",
              "      <td>Acne and Rosacea Photos</td>\n",
              "      <td>/content/drive/MyDrive/499A Datasets/Dermnet/p...</td>\n",
              "      <td>Clinical photo depicting acne &amp; rosacea.</td>\n",
              "    </tr>\n",
              "    <tr>\n",
              "      <th>2</th>\n",
              "      <td>train</td>\n",
              "      <td>Acne and Rosacea Photos</td>\n",
              "      <td>/content/drive/MyDrive/499A Datasets/Dermnet/p...</td>\n",
              "      <td>Image of human skin showing acne &amp; rosacea.</td>\n",
              "    </tr>\n",
              "  </tbody>\n",
              "</table>\n",
              "</div>\n",
              "    <div class=\"colab-df-buttons\">\n",
              "\n",
              "  <div class=\"colab-df-container\">\n",
              "    <button class=\"colab-df-convert\" onclick=\"convertToInteractive('df-7f661233-694e-4bc2-a12b-8b70f30c1525')\"\n",
              "            title=\"Convert this dataframe to an interactive table.\"\n",
              "            style=\"display:none;\">\n",
              "\n",
              "  <svg xmlns=\"http://www.w3.org/2000/svg\" height=\"24px\" viewBox=\"0 -960 960 960\">\n",
              "    <path d=\"M120-120v-720h720v720H120Zm60-500h600v-160H180v160Zm220 220h160v-160H400v160Zm0 220h160v-160H400v160ZM180-400h160v-160H180v160Zm440 0h160v-160H620v160ZM180-180h160v-160H180v160Zm440 0h160v-160H620v160Z\"/>\n",
              "  </svg>\n",
              "    </button>\n",
              "\n",
              "  <style>\n",
              "    .colab-df-container {\n",
              "      display:flex;\n",
              "      gap: 12px;\n",
              "    }\n",
              "\n",
              "    .colab-df-convert {\n",
              "      background-color: #E8F0FE;\n",
              "      border: none;\n",
              "      border-radius: 50%;\n",
              "      cursor: pointer;\n",
              "      display: none;\n",
              "      fill: #1967D2;\n",
              "      height: 32px;\n",
              "      padding: 0 0 0 0;\n",
              "      width: 32px;\n",
              "    }\n",
              "\n",
              "    .colab-df-convert:hover {\n",
              "      background-color: #E2EBFA;\n",
              "      box-shadow: 0px 1px 2px rgba(60, 64, 67, 0.3), 0px 1px 3px 1px rgba(60, 64, 67, 0.15);\n",
              "      fill: #174EA6;\n",
              "    }\n",
              "\n",
              "    .colab-df-buttons div {\n",
              "      margin-bottom: 4px;\n",
              "    }\n",
              "\n",
              "    [theme=dark] .colab-df-convert {\n",
              "      background-color: #3B4455;\n",
              "      fill: #D2E3FC;\n",
              "    }\n",
              "\n",
              "    [theme=dark] .colab-df-convert:hover {\n",
              "      background-color: #434B5C;\n",
              "      box-shadow: 0px 1px 3px 1px rgba(0, 0, 0, 0.15);\n",
              "      filter: drop-shadow(0px 1px 2px rgba(0, 0, 0, 0.3));\n",
              "      fill: #FFFFFF;\n",
              "    }\n",
              "  </style>\n",
              "\n",
              "    <script>\n",
              "      const buttonEl =\n",
              "        document.querySelector('#df-7f661233-694e-4bc2-a12b-8b70f30c1525 button.colab-df-convert');\n",
              "      buttonEl.style.display =\n",
              "        google.colab.kernel.accessAllowed ? 'block' : 'none';\n",
              "\n",
              "      async function convertToInteractive(key) {\n",
              "        const element = document.querySelector('#df-7f661233-694e-4bc2-a12b-8b70f30c1525');\n",
              "        const dataTable =\n",
              "          await google.colab.kernel.invokeFunction('convertToInteractive',\n",
              "                                                    [key], {});\n",
              "        if (!dataTable) return;\n",
              "\n",
              "        const docLinkHtml = 'Like what you see? Visit the ' +\n",
              "          '<a target=\"_blank\" href=https://colab.research.google.com/notebooks/data_table.ipynb>data table notebook</a>'\n",
              "          + ' to learn more about interactive tables.';\n",
              "        element.innerHTML = '';\n",
              "        dataTable['output_type'] = 'display_data';\n",
              "        await google.colab.output.renderOutput(dataTable, element);\n",
              "        const docLink = document.createElement('div');\n",
              "        docLink.innerHTML = docLinkHtml;\n",
              "        element.appendChild(docLink);\n",
              "      }\n",
              "    </script>\n",
              "  </div>\n",
              "\n",
              "\n",
              "    <div id=\"df-9a146a34-8d97-43ab-bef9-f37bf5640f04\">\n",
              "      <button class=\"colab-df-quickchart\" onclick=\"quickchart('df-9a146a34-8d97-43ab-bef9-f37bf5640f04')\"\n",
              "                title=\"Suggest charts\"\n",
              "                style=\"display:none;\">\n",
              "\n",
              "<svg xmlns=\"http://www.w3.org/2000/svg\" height=\"24px\"viewBox=\"0 0 24 24\"\n",
              "     width=\"24px\">\n",
              "    <g>\n",
              "        <path d=\"M19 3H5c-1.1 0-2 .9-2 2v14c0 1.1.9 2 2 2h14c1.1 0 2-.9 2-2V5c0-1.1-.9-2-2-2zM9 17H7v-7h2v7zm4 0h-2V7h2v10zm4 0h-2v-4h2v4z\"/>\n",
              "    </g>\n",
              "</svg>\n",
              "      </button>\n",
              "\n",
              "<style>\n",
              "  .colab-df-quickchart {\n",
              "      --bg-color: #E8F0FE;\n",
              "      --fill-color: #1967D2;\n",
              "      --hover-bg-color: #E2EBFA;\n",
              "      --hover-fill-color: #174EA6;\n",
              "      --disabled-fill-color: #AAA;\n",
              "      --disabled-bg-color: #DDD;\n",
              "  }\n",
              "\n",
              "  [theme=dark] .colab-df-quickchart {\n",
              "      --bg-color: #3B4455;\n",
              "      --fill-color: #D2E3FC;\n",
              "      --hover-bg-color: #434B5C;\n",
              "      --hover-fill-color: #FFFFFF;\n",
              "      --disabled-bg-color: #3B4455;\n",
              "      --disabled-fill-color: #666;\n",
              "  }\n",
              "\n",
              "  .colab-df-quickchart {\n",
              "    background-color: var(--bg-color);\n",
              "    border: none;\n",
              "    border-radius: 50%;\n",
              "    cursor: pointer;\n",
              "    display: none;\n",
              "    fill: var(--fill-color);\n",
              "    height: 32px;\n",
              "    padding: 0;\n",
              "    width: 32px;\n",
              "  }\n",
              "\n",
              "  .colab-df-quickchart:hover {\n",
              "    background-color: var(--hover-bg-color);\n",
              "    box-shadow: 0 1px 2px rgba(60, 64, 67, 0.3), 0 1px 3px 1px rgba(60, 64, 67, 0.15);\n",
              "    fill: var(--button-hover-fill-color);\n",
              "  }\n",
              "\n",
              "  .colab-df-quickchart-complete:disabled,\n",
              "  .colab-df-quickchart-complete:disabled:hover {\n",
              "    background-color: var(--disabled-bg-color);\n",
              "    fill: var(--disabled-fill-color);\n",
              "    box-shadow: none;\n",
              "  }\n",
              "\n",
              "  .colab-df-spinner {\n",
              "    border: 2px solid var(--fill-color);\n",
              "    border-color: transparent;\n",
              "    border-bottom-color: var(--fill-color);\n",
              "    animation:\n",
              "      spin 1s steps(1) infinite;\n",
              "  }\n",
              "\n",
              "  @keyframes spin {\n",
              "    0% {\n",
              "      border-color: transparent;\n",
              "      border-bottom-color: var(--fill-color);\n",
              "      border-left-color: var(--fill-color);\n",
              "    }\n",
              "    20% {\n",
              "      border-color: transparent;\n",
              "      border-left-color: var(--fill-color);\n",
              "      border-top-color: var(--fill-color);\n",
              "    }\n",
              "    30% {\n",
              "      border-color: transparent;\n",
              "      border-left-color: var(--fill-color);\n",
              "      border-top-color: var(--fill-color);\n",
              "      border-right-color: var(--fill-color);\n",
              "    }\n",
              "    40% {\n",
              "      border-color: transparent;\n",
              "      border-right-color: var(--fill-color);\n",
              "      border-top-color: var(--fill-color);\n",
              "    }\n",
              "    60% {\n",
              "      border-color: transparent;\n",
              "      border-right-color: var(--fill-color);\n",
              "    }\n",
              "    80% {\n",
              "      border-color: transparent;\n",
              "      border-right-color: var(--fill-color);\n",
              "      border-bottom-color: var(--fill-color);\n",
              "    }\n",
              "    90% {\n",
              "      border-color: transparent;\n",
              "      border-bottom-color: var(--fill-color);\n",
              "    }\n",
              "  }\n",
              "</style>\n",
              "\n",
              "      <script>\n",
              "        async function quickchart(key) {\n",
              "          const quickchartButtonEl =\n",
              "            document.querySelector('#' + key + ' button');\n",
              "          quickchartButtonEl.disabled = true;  // To prevent multiple clicks.\n",
              "          quickchartButtonEl.classList.add('colab-df-spinner');\n",
              "          try {\n",
              "            const charts = await google.colab.kernel.invokeFunction(\n",
              "                'suggestCharts', [key], {});\n",
              "          } catch (error) {\n",
              "            console.error('Error during call to suggestCharts:', error);\n",
              "          }\n",
              "          quickchartButtonEl.classList.remove('colab-df-spinner');\n",
              "          quickchartButtonEl.classList.add('colab-df-quickchart-complete');\n",
              "        }\n",
              "        (() => {\n",
              "          let quickchartButtonEl =\n",
              "            document.querySelector('#df-9a146a34-8d97-43ab-bef9-f37bf5640f04 button');\n",
              "          quickchartButtonEl.style.display =\n",
              "            google.colab.kernel.accessAllowed ? 'block' : 'none';\n",
              "        })();\n",
              "      </script>\n",
              "    </div>\n",
              "\n",
              "    </div>\n",
              "  </div>\n"
            ],
            "application/vnd.google.colaboratory.intrinsic+json": {
              "type": "dataframe",
              "variable_name": "df_aug",
              "summary": "{\n  \"name\": \"df_aug\",\n  \"rows\": 48956,\n  \"fields\": [\n    {\n      \"column\": \"subset\",\n      \"properties\": {\n        \"dtype\": \"category\",\n        \"num_unique_values\": 2,\n        \"samples\": [\n          \"test\",\n          \"train\"\n        ],\n        \"semantic_type\": \"\",\n        \"description\": \"\"\n      }\n    },\n    {\n      \"column\": \"class_name\",\n      \"properties\": {\n        \"dtype\": \"category\",\n        \"num_unique_values\": 23,\n        \"samples\": [\n          \"Scabies Lyme Disease and other Infestations and Bites\",\n          \"Light Diseases and Disorders of Pigmentation\"\n        ],\n        \"semantic_type\": \"\",\n        \"description\": \"\"\n      }\n    },\n    {\n      \"column\": \"image_path\",\n      \"properties\": {\n        \"dtype\": \"category\",\n        \"num_unique_values\": 19559,\n        \"samples\": [\n          \"/content/drive/MyDrive/499A Datasets/Dermnet/preprocessed/train/Light Diseases and Disorders of Pigmentation/sun-damaged-skin-103.jpg\",\n          \"/content/drive/MyDrive/499A Datasets/Dermnet/preprocessed/train/Warts Molluscum and other Viral Infections/herpes-simplex-18.jpg\"\n        ],\n        \"semantic_type\": \"\",\n        \"description\": \"\"\n      }\n    },\n    {\n      \"column\": \"text_prompt\",\n      \"properties\": {\n        \"dtype\": \"category\",\n        \"num_unique_values\": 138,\n        \"samples\": [\n          \"Close-up skin lesion associated with psoriasis lichen planus & related s.\",\n          \"Dermatological image illustrating systemic.\"\n        ],\n        \"semantic_type\": \"\",\n        \"description\": \"\"\n      }\n    }\n  ]\n}"
            }
          },
          "metadata": {},
          "execution_count": 21
        }
      ]
    },
    {
      "cell_type": "markdown",
      "source": [
        "Saving updated metadata"
      ],
      "metadata": {
        "id": "KXaB_kmxqV9T"
      }
    },
    {
      "cell_type": "code",
      "source": [
        "aug_path = \"/content/drive/MyDrive/499A Datasets/Dermnet/preprocessed/metadata_augmented.csv\"\n",
        "df_aug.to_csv(aug_path, index=False)\n",
        "print(f\"Augmented metadata saved to {aug_path}\")\n"
      ],
      "metadata": {
        "colab": {
          "base_uri": "https://localhost:8080/"
        },
        "id": "R-wbQ0IlqZF1",
        "outputId": "60878021-3bbe-48fe-c270-65514b209883"
      },
      "execution_count": 22,
      "outputs": [
        {
          "output_type": "stream",
          "name": "stdout",
          "text": [
            "Augmented metadata saved to /content/drive/MyDrive/499A Datasets/Dermnet/preprocessed/metadata_augmented.csv\n"
          ]
        }
      ]
    },
    {
      "cell_type": "markdown",
      "source": [
        "**Skincon Dataset**"
      ],
      "metadata": {
        "id": "S_cTWl3Otqi1"
      }
    },
    {
      "cell_type": "code",
      "source": [
        "!ls -R \"/content/drive/MyDrive/499A Datasets/Skincon/extracted\" | head -n 50"
      ],
      "metadata": {
        "colab": {
          "base_uri": "https://localhost:8080/"
        },
        "id": "y_zJ4aV_tvkD",
        "outputId": "34dc4c28-0391-48b1-8df7-5b337902ff98"
      },
      "execution_count": 23,
      "outputs": [
        {
          "output_type": "stream",
          "name": "stdout",
          "text": [
            "/content/drive/MyDrive/499A Datasets/Skincon/extracted:\n",
            "fitzpatrick17k.csv\n",
            "image (1).csv\n",
            "image.csv\n"
          ]
        }
      ]
    },
    {
      "cell_type": "markdown",
      "source": [
        "Dataset's attributes and entities"
      ],
      "metadata": {
        "id": "qvd-9XcTwlog"
      }
    },
    {
      "cell_type": "code",
      "source": [
        "csv_path = \"/content/drive/MyDrive/499A Datasets/Skincon/extracted/fitzpatrick17k.csv\"\n",
        "df = pd.read_csv(csv_path)\n",
        "\n",
        "print(\"Columns:\", df.columns.tolist())\n",
        "df.head(3)"
      ],
      "metadata": {
        "colab": {
          "base_uri": "https://localhost:8080/",
          "height": 215
        },
        "id": "y_qNPKzguAmv",
        "outputId": "a0f71e46-fa02-480a-f469-992bdcced993"
      },
      "execution_count": 24,
      "outputs": [
        {
          "output_type": "stream",
          "name": "stdout",
          "text": [
            "Columns: ['md5hash', 'fitzpatrick_scale', 'fitzpatrick_centaur', 'label', 'nine_partition_label', 'three_partition_label', 'qc', 'url', 'url_alphanum']\n"
          ]
        },
        {
          "output_type": "execute_result",
          "data": {
            "text/plain": [
              "                            md5hash  fitzpatrick_scale  fitzpatrick_centaur  \\\n",
              "0  5e82a45bc5d78bd24ae9202d194423f8                  3                    3   \n",
              "1  fa2911a9b13b6f8af79cb700937cc14f                  1                    1   \n",
              "2  d2bac3c9e4499032ca8e9b07c7d3bc40                  2                    3   \n",
              "\n",
              "                             label nine_partition_label three_partition_label  \\\n",
              "0  drug induced pigmentary changes         inflammatory        non-neoplastic   \n",
              "1                  photodermatoses         inflammatory        non-neoplastic   \n",
              "2                   dermatofibroma        benign dermal                benign   \n",
              "\n",
              "    qc                                                url  \\\n",
              "0  NaN  https://www.dermaamin.com/site/images/clinical...   \n",
              "1  NaN  https://www.dermaamin.com/site/images/clinical...   \n",
              "2  NaN  https://www.dermaamin.com/site/images/clinical...   \n",
              "\n",
              "                                        url_alphanum  \n",
              "0  httpwwwdermaamincomsiteimagesclinicalpicmminoc...  \n",
              "1  httpwwwdermaamincomsiteimagesclinicalpicpphoto...  \n",
              "2  httpwwwdermaamincomsiteimagesclinicalpicdderma...  "
            ],
            "text/html": [
              "\n",
              "  <div id=\"df-7fd958b6-807f-4349-b793-ca7a2a04f80f\" class=\"colab-df-container\">\n",
              "    <div>\n",
              "<style scoped>\n",
              "    .dataframe tbody tr th:only-of-type {\n",
              "        vertical-align: middle;\n",
              "    }\n",
              "\n",
              "    .dataframe tbody tr th {\n",
              "        vertical-align: top;\n",
              "    }\n",
              "\n",
              "    .dataframe thead th {\n",
              "        text-align: right;\n",
              "    }\n",
              "</style>\n",
              "<table border=\"1\" class=\"dataframe\">\n",
              "  <thead>\n",
              "    <tr style=\"text-align: right;\">\n",
              "      <th></th>\n",
              "      <th>md5hash</th>\n",
              "      <th>fitzpatrick_scale</th>\n",
              "      <th>fitzpatrick_centaur</th>\n",
              "      <th>label</th>\n",
              "      <th>nine_partition_label</th>\n",
              "      <th>three_partition_label</th>\n",
              "      <th>qc</th>\n",
              "      <th>url</th>\n",
              "      <th>url_alphanum</th>\n",
              "    </tr>\n",
              "  </thead>\n",
              "  <tbody>\n",
              "    <tr>\n",
              "      <th>0</th>\n",
              "      <td>5e82a45bc5d78bd24ae9202d194423f8</td>\n",
              "      <td>3</td>\n",
              "      <td>3</td>\n",
              "      <td>drug induced pigmentary changes</td>\n",
              "      <td>inflammatory</td>\n",
              "      <td>non-neoplastic</td>\n",
              "      <td>NaN</td>\n",
              "      <td>https://www.dermaamin.com/site/images/clinical...</td>\n",
              "      <td>httpwwwdermaamincomsiteimagesclinicalpicmminoc...</td>\n",
              "    </tr>\n",
              "    <tr>\n",
              "      <th>1</th>\n",
              "      <td>fa2911a9b13b6f8af79cb700937cc14f</td>\n",
              "      <td>1</td>\n",
              "      <td>1</td>\n",
              "      <td>photodermatoses</td>\n",
              "      <td>inflammatory</td>\n",
              "      <td>non-neoplastic</td>\n",
              "      <td>NaN</td>\n",
              "      <td>https://www.dermaamin.com/site/images/clinical...</td>\n",
              "      <td>httpwwwdermaamincomsiteimagesclinicalpicpphoto...</td>\n",
              "    </tr>\n",
              "    <tr>\n",
              "      <th>2</th>\n",
              "      <td>d2bac3c9e4499032ca8e9b07c7d3bc40</td>\n",
              "      <td>2</td>\n",
              "      <td>3</td>\n",
              "      <td>dermatofibroma</td>\n",
              "      <td>benign dermal</td>\n",
              "      <td>benign</td>\n",
              "      <td>NaN</td>\n",
              "      <td>https://www.dermaamin.com/site/images/clinical...</td>\n",
              "      <td>httpwwwdermaamincomsiteimagesclinicalpicdderma...</td>\n",
              "    </tr>\n",
              "  </tbody>\n",
              "</table>\n",
              "</div>\n",
              "    <div class=\"colab-df-buttons\">\n",
              "\n",
              "  <div class=\"colab-df-container\">\n",
              "    <button class=\"colab-df-convert\" onclick=\"convertToInteractive('df-7fd958b6-807f-4349-b793-ca7a2a04f80f')\"\n",
              "            title=\"Convert this dataframe to an interactive table.\"\n",
              "            style=\"display:none;\">\n",
              "\n",
              "  <svg xmlns=\"http://www.w3.org/2000/svg\" height=\"24px\" viewBox=\"0 -960 960 960\">\n",
              "    <path d=\"M120-120v-720h720v720H120Zm60-500h600v-160H180v160Zm220 220h160v-160H400v160Zm0 220h160v-160H400v160ZM180-400h160v-160H180v160Zm440 0h160v-160H620v160ZM180-180h160v-160H180v160Zm440 0h160v-160H620v160Z\"/>\n",
              "  </svg>\n",
              "    </button>\n",
              "\n",
              "  <style>\n",
              "    .colab-df-container {\n",
              "      display:flex;\n",
              "      gap: 12px;\n",
              "    }\n",
              "\n",
              "    .colab-df-convert {\n",
              "      background-color: #E8F0FE;\n",
              "      border: none;\n",
              "      border-radius: 50%;\n",
              "      cursor: pointer;\n",
              "      display: none;\n",
              "      fill: #1967D2;\n",
              "      height: 32px;\n",
              "      padding: 0 0 0 0;\n",
              "      width: 32px;\n",
              "    }\n",
              "\n",
              "    .colab-df-convert:hover {\n",
              "      background-color: #E2EBFA;\n",
              "      box-shadow: 0px 1px 2px rgba(60, 64, 67, 0.3), 0px 1px 3px 1px rgba(60, 64, 67, 0.15);\n",
              "      fill: #174EA6;\n",
              "    }\n",
              "\n",
              "    .colab-df-buttons div {\n",
              "      margin-bottom: 4px;\n",
              "    }\n",
              "\n",
              "    [theme=dark] .colab-df-convert {\n",
              "      background-color: #3B4455;\n",
              "      fill: #D2E3FC;\n",
              "    }\n",
              "\n",
              "    [theme=dark] .colab-df-convert:hover {\n",
              "      background-color: #434B5C;\n",
              "      box-shadow: 0px 1px 3px 1px rgba(0, 0, 0, 0.15);\n",
              "      filter: drop-shadow(0px 1px 2px rgba(0, 0, 0, 0.3));\n",
              "      fill: #FFFFFF;\n",
              "    }\n",
              "  </style>\n",
              "\n",
              "    <script>\n",
              "      const buttonEl =\n",
              "        document.querySelector('#df-7fd958b6-807f-4349-b793-ca7a2a04f80f button.colab-df-convert');\n",
              "      buttonEl.style.display =\n",
              "        google.colab.kernel.accessAllowed ? 'block' : 'none';\n",
              "\n",
              "      async function convertToInteractive(key) {\n",
              "        const element = document.querySelector('#df-7fd958b6-807f-4349-b793-ca7a2a04f80f');\n",
              "        const dataTable =\n",
              "          await google.colab.kernel.invokeFunction('convertToInteractive',\n",
              "                                                    [key], {});\n",
              "        if (!dataTable) return;\n",
              "\n",
              "        const docLinkHtml = 'Like what you see? Visit the ' +\n",
              "          '<a target=\"_blank\" href=https://colab.research.google.com/notebooks/data_table.ipynb>data table notebook</a>'\n",
              "          + ' to learn more about interactive tables.';\n",
              "        element.innerHTML = '';\n",
              "        dataTable['output_type'] = 'display_data';\n",
              "        await google.colab.output.renderOutput(dataTable, element);\n",
              "        const docLink = document.createElement('div');\n",
              "        docLink.innerHTML = docLinkHtml;\n",
              "        element.appendChild(docLink);\n",
              "      }\n",
              "    </script>\n",
              "  </div>\n",
              "\n",
              "\n",
              "    <div id=\"df-f0a21612-5e74-46c6-b818-fe027b5ebce8\">\n",
              "      <button class=\"colab-df-quickchart\" onclick=\"quickchart('df-f0a21612-5e74-46c6-b818-fe027b5ebce8')\"\n",
              "                title=\"Suggest charts\"\n",
              "                style=\"display:none;\">\n",
              "\n",
              "<svg xmlns=\"http://www.w3.org/2000/svg\" height=\"24px\"viewBox=\"0 0 24 24\"\n",
              "     width=\"24px\">\n",
              "    <g>\n",
              "        <path d=\"M19 3H5c-1.1 0-2 .9-2 2v14c0 1.1.9 2 2 2h14c1.1 0 2-.9 2-2V5c0-1.1-.9-2-2-2zM9 17H7v-7h2v7zm4 0h-2V7h2v10zm4 0h-2v-4h2v4z\"/>\n",
              "    </g>\n",
              "</svg>\n",
              "      </button>\n",
              "\n",
              "<style>\n",
              "  .colab-df-quickchart {\n",
              "      --bg-color: #E8F0FE;\n",
              "      --fill-color: #1967D2;\n",
              "      --hover-bg-color: #E2EBFA;\n",
              "      --hover-fill-color: #174EA6;\n",
              "      --disabled-fill-color: #AAA;\n",
              "      --disabled-bg-color: #DDD;\n",
              "  }\n",
              "\n",
              "  [theme=dark] .colab-df-quickchart {\n",
              "      --bg-color: #3B4455;\n",
              "      --fill-color: #D2E3FC;\n",
              "      --hover-bg-color: #434B5C;\n",
              "      --hover-fill-color: #FFFFFF;\n",
              "      --disabled-bg-color: #3B4455;\n",
              "      --disabled-fill-color: #666;\n",
              "  }\n",
              "\n",
              "  .colab-df-quickchart {\n",
              "    background-color: var(--bg-color);\n",
              "    border: none;\n",
              "    border-radius: 50%;\n",
              "    cursor: pointer;\n",
              "    display: none;\n",
              "    fill: var(--fill-color);\n",
              "    height: 32px;\n",
              "    padding: 0;\n",
              "    width: 32px;\n",
              "  }\n",
              "\n",
              "  .colab-df-quickchart:hover {\n",
              "    background-color: var(--hover-bg-color);\n",
              "    box-shadow: 0 1px 2px rgba(60, 64, 67, 0.3), 0 1px 3px 1px rgba(60, 64, 67, 0.15);\n",
              "    fill: var(--button-hover-fill-color);\n",
              "  }\n",
              "\n",
              "  .colab-df-quickchart-complete:disabled,\n",
              "  .colab-df-quickchart-complete:disabled:hover {\n",
              "    background-color: var(--disabled-bg-color);\n",
              "    fill: var(--disabled-fill-color);\n",
              "    box-shadow: none;\n",
              "  }\n",
              "\n",
              "  .colab-df-spinner {\n",
              "    border: 2px solid var(--fill-color);\n",
              "    border-color: transparent;\n",
              "    border-bottom-color: var(--fill-color);\n",
              "    animation:\n",
              "      spin 1s steps(1) infinite;\n",
              "  }\n",
              "\n",
              "  @keyframes spin {\n",
              "    0% {\n",
              "      border-color: transparent;\n",
              "      border-bottom-color: var(--fill-color);\n",
              "      border-left-color: var(--fill-color);\n",
              "    }\n",
              "    20% {\n",
              "      border-color: transparent;\n",
              "      border-left-color: var(--fill-color);\n",
              "      border-top-color: var(--fill-color);\n",
              "    }\n",
              "    30% {\n",
              "      border-color: transparent;\n",
              "      border-left-color: var(--fill-color);\n",
              "      border-top-color: var(--fill-color);\n",
              "      border-right-color: var(--fill-color);\n",
              "    }\n",
              "    40% {\n",
              "      border-color: transparent;\n",
              "      border-right-color: var(--fill-color);\n",
              "      border-top-color: var(--fill-color);\n",
              "    }\n",
              "    60% {\n",
              "      border-color: transparent;\n",
              "      border-right-color: var(--fill-color);\n",
              "    }\n",
              "    80% {\n",
              "      border-color: transparent;\n",
              "      border-right-color: var(--fill-color);\n",
              "      border-bottom-color: var(--fill-color);\n",
              "    }\n",
              "    90% {\n",
              "      border-color: transparent;\n",
              "      border-bottom-color: var(--fill-color);\n",
              "    }\n",
              "  }\n",
              "</style>\n",
              "\n",
              "      <script>\n",
              "        async function quickchart(key) {\n",
              "          const quickchartButtonEl =\n",
              "            document.querySelector('#' + key + ' button');\n",
              "          quickchartButtonEl.disabled = true;  // To prevent multiple clicks.\n",
              "          quickchartButtonEl.classList.add('colab-df-spinner');\n",
              "          try {\n",
              "            const charts = await google.colab.kernel.invokeFunction(\n",
              "                'suggestCharts', [key], {});\n",
              "          } catch (error) {\n",
              "            console.error('Error during call to suggestCharts:', error);\n",
              "          }\n",
              "          quickchartButtonEl.classList.remove('colab-df-spinner');\n",
              "          quickchartButtonEl.classList.add('colab-df-quickchart-complete');\n",
              "        }\n",
              "        (() => {\n",
              "          let quickchartButtonEl =\n",
              "            document.querySelector('#df-f0a21612-5e74-46c6-b818-fe027b5ebce8 button');\n",
              "          quickchartButtonEl.style.display =\n",
              "            google.colab.kernel.accessAllowed ? 'block' : 'none';\n",
              "        })();\n",
              "      </script>\n",
              "    </div>\n",
              "\n",
              "    </div>\n",
              "  </div>\n"
            ],
            "application/vnd.google.colaboratory.intrinsic+json": {
              "type": "dataframe",
              "variable_name": "df",
              "summary": "{\n  \"name\": \"df\",\n  \"rows\": 16577,\n  \"fields\": [\n    {\n      \"column\": \"md5hash\",\n      \"properties\": {\n        \"dtype\": \"string\",\n        \"num_unique_values\": 16577,\n        \"samples\": [\n          \"42011fa6b24713fc37c521ff2e50758a\",\n          \"a2314e281d529c2ca7e4058bdee394f8\",\n          \"b35d8e1757e938d5520dfd99ff8e0174\"\n        ],\n        \"semantic_type\": \"\",\n        \"description\": \"\"\n      }\n    },\n    {\n      \"column\": \"fitzpatrick_scale\",\n      \"properties\": {\n        \"dtype\": \"number\",\n        \"std\": 1,\n        \"min\": -1,\n        \"max\": 6,\n        \"num_unique_values\": 7,\n        \"samples\": [\n          3,\n          1,\n          -1\n        ],\n        \"semantic_type\": \"\",\n        \"description\": \"\"\n      }\n    },\n    {\n      \"column\": \"fitzpatrick_centaur\",\n      \"properties\": {\n        \"dtype\": \"number\",\n        \"std\": 1,\n        \"min\": -1,\n        \"max\": 6,\n        \"num_unique_values\": 7,\n        \"samples\": [\n          3,\n          1,\n          -1\n        ],\n        \"semantic_type\": \"\",\n        \"description\": \"\"\n      }\n    },\n    {\n      \"column\": \"label\",\n      \"properties\": {\n        \"dtype\": \"category\",\n        \"num_unique_values\": 114,\n        \"samples\": [\n          \"dariers disease\",\n          \"kaposi sarcoma\",\n          \"erythema nodosum\"\n        ],\n        \"semantic_type\": \"\",\n        \"description\": \"\"\n      }\n    },\n    {\n      \"column\": \"nine_partition_label\",\n      \"properties\": {\n        \"dtype\": \"category\",\n        \"num_unique_values\": 9,\n        \"samples\": [\n          \"benign melanocyte\",\n          \"benign dermal\",\n          \"malignant epidermal\"\n        ],\n        \"semantic_type\": \"\",\n        \"description\": \"\"\n      }\n    },\n    {\n      \"column\": \"three_partition_label\",\n      \"properties\": {\n        \"dtype\": \"category\",\n        \"num_unique_values\": 3,\n        \"samples\": [\n          \"non-neoplastic\",\n          \"benign\",\n          \"malignant\"\n        ],\n        \"semantic_type\": \"\",\n        \"description\": \"\"\n      }\n    },\n    {\n      \"column\": \"qc\",\n      \"properties\": {\n        \"dtype\": \"category\",\n        \"num_unique_values\": 5,\n        \"samples\": [\n          \"5 Potentially\",\n          \"4 Other\",\n          \"3 Wrongly labelled\"\n        ],\n        \"semantic_type\": \"\",\n        \"description\": \"\"\n      }\n    },\n    {\n      \"column\": \"url\",\n      \"properties\": {\n        \"dtype\": \"string\",\n        \"num_unique_values\": 16536,\n        \"samples\": [\n          \"https://www.dermaamin.com/site/images/clinical-pic/t/tuberous_sclerosis/tuberous_sclerosis14.jpg\",\n          \"https://www.dermaamin.com/site/images/clinical-pic/b/basal_cell_carcinoma_morpheiform/basal_cell_carcinoma_morpheiform38.jpg\",\n          \"https://www.dermaamin.com/site/images/clinical-pic/p/psoriasis-inversa/psoriasis-inversa10.jpg\"\n        ],\n        \"semantic_type\": \"\",\n        \"description\": \"\"\n      }\n    },\n    {\n      \"column\": \"url_alphanum\",\n      \"properties\": {\n        \"dtype\": \"string\",\n        \"num_unique_values\": 16577,\n        \"samples\": [\n          \"httpwwwdermaamincomsiteimagesclinicalpicsscabiesscabies78jpg.jpg\",\n          \"httpwwwatlasdermatologicocombrimgimageId7935.jpg\",\n          \"httpwwwdermaamincomsiteimagesclinicalpicLlymphocyticinfiltrationoftheskinjessnerkanoflymphocyticinfiltrationoftheskinjessnerkanof7jpg.jpg\"\n        ],\n        \"semantic_type\": \"\",\n        \"description\": \"\"\n      }\n    }\n  ]\n}"
            }
          },
          "metadata": {},
          "execution_count": 24
        }
      ]
    },
    {
      "cell_type": "code",
      "source": [
        "import requests\n",
        "from io import BytesIO"
      ],
      "metadata": {
        "id": "YqFXup6Wz9sE"
      },
      "execution_count": 25,
      "outputs": []
    },
    {
      "cell_type": "code",
      "source": [
        "# Base paths\n",
        "skincon_raw_csv = \"/content/drive/MyDrive/499A Datasets/Skincon/extracted/fitzpatrick17k.csv\"\n",
        "skincon_preprocessed = \"/content/drive/MyDrive/499A Datasets/Skincon/preprocessed\"\n",
        "os.makedirs(skincon_preprocessed, exist_ok=True)\n",
        "\n",
        "# Load metadata\n",
        "df = pd.read_csv(skincon_raw_csv)\n",
        "print(f\"Loaded {len(df)} SkinCon entries.\")\n",
        "\n",
        "# Clean NaN URLs or labels\n",
        "df = df.dropna(subset=['url', 'label'])\n",
        "print(f\"Remaining valid entries: {len(df)}\")\n",
        "\n",
        "# Prepare folders\n",
        "image_dir = os.path.join(skincon_preprocessed, \"images\")\n",
        "os.makedirs(image_dir, exist_ok=True)"
      ],
      "metadata": {
        "colab": {
          "base_uri": "https://localhost:8080/"
        },
        "id": "nIVF2Euz0gqQ",
        "outputId": "00b271b9-9515-4f8e-d4a5-61a0544cc187"
      },
      "execution_count": 26,
      "outputs": [
        {
          "output_type": "stream",
          "name": "stdout",
          "text": [
            "Loaded 16577 SkinCon entries.\n",
            "Remaining valid entries: 16536\n"
          ]
        }
      ]
    },
    {
      "cell_type": "markdown",
      "source": [
        "Image preprocessing funtion"
      ],
      "metadata": {
        "id": "GE-aMtzK0vYG"
      }
    },
    {
      "cell_type": "code",
      "source": [
        "def download_and_preprocess(row):\n",
        "    url = row['url']\n",
        "    label = row['label'].strip().replace(\" \", \"_\").lower()\n",
        "    label_dir = os.path.join(image_dir, label)\n",
        "    os.makedirs(label_dir, exist_ok=True)\n",
        "\n",
        "    image_name = f\"{row['md5hash']}.jpg\"\n",
        "    image_path = os.path.join(label_dir, image_name)\n",
        "\n",
        "    if os.path.exists(image_path):\n",
        "        return image_path\n",
        "\n",
        "    try:\n",
        "        response = requests.get(url, timeout=8)\n",
        "        img = Image.open(BytesIO(response.content)).convert(\"RGB\")\n",
        "        img = img.resize((224, 224))\n",
        "        img.save(image_path, \"JPEG\", quality=90)\n",
        "        return image_path\n",
        "    except Exception as e:\n",
        "        return None"
      ],
      "metadata": {
        "id": "5jifB3yA0x0a"
      },
      "execution_count": 27,
      "outputs": []
    },
    {
      "cell_type": "markdown",
      "source": [
        "Download and preprocess all images"
      ],
      "metadata": {
        "id": "mI4yEK1M03YA"
      }
    },
    {
      "cell_type": "code",
      "source": [
        "tqdm.pandas()\n",
        "df[\"image_path\"] = df.progress_apply(download_and_preprocess, axis=1)\n",
        "df = df.dropna(subset=[\"image_path\"])\n",
        "\n",
        "print(f\"Images successfully downloaded and resized: {len(df)}\")"
      ],
      "metadata": {
        "colab": {
          "base_uri": "https://localhost:8080/"
        },
        "id": "S6OFHyqw06qK",
        "outputId": "a12eb67d-5b09-49d7-a1e8-3e5d65a30f23"
      },
      "execution_count": 28,
      "outputs": [
        {
          "output_type": "stream",
          "name": "stderr",
          "text": [
            "100%|██████████| 16536/16536 [2:39:07<00:00,  1.73it/s]\n"
          ]
        },
        {
          "output_type": "stream",
          "name": "stdout",
          "text": [
            "Images successfully downloaded and resized: 16518\n"
          ]
        }
      ]
    },
    {
      "cell_type": "markdown",
      "source": [
        "Image and image(1)"
      ],
      "metadata": {
        "id": "ivCvAu2e_L77"
      }
    },
    {
      "cell_type": "code",
      "source": [
        "\n",
        "csv1 = \"/content/drive/MyDrive/499A Datasets/Skincon/extracted/image.csv\"\n",
        "csv2 = \"/content/drive/MyDrive/499A Datasets/Skincon/extracted/image (1).csv\"\n",
        "\n",
        "# Read only first few rows\n",
        "for path in [csv1, csv2]:\n",
        "    print(f\"\\n{path}\")\n",
        "    try:\n",
        "        df_temp = pd.read_csv(path)\n",
        "        print(\"Columns:\", df_temp.columns.tolist())\n",
        "        print(df_temp.head(2))\n",
        "    except Exception as e:\n",
        "        print(\"Error reading:\", e)"
      ],
      "metadata": {
        "colab": {
          "base_uri": "https://localhost:8080/"
        },
        "id": "OSDOw1BN_QLp",
        "outputId": "015e2165-c185-40a2-f9cc-fec709293a3f"
      },
      "execution_count": 37,
      "outputs": [
        {
          "output_type": "stream",
          "name": "stdout",
          "text": [
            "\n",
            "/content/drive/MyDrive/499A Datasets/Skincon/extracted/image.csv\n",
            "Columns: ['Unnamed: 0', 'ImageID', 'Vesicle', 'Papule', 'Macule', 'Plaque', 'Abscess', 'Pustule', 'Bulla', 'Patch', 'Nodule', 'Ulcer', 'Crust', 'Erosion', 'Excoriation', 'Atrophy', 'Exudate', 'Purpura/Petechiae', 'Fissure', 'Induration', 'Xerosis', 'Telangiectasia', 'Scale', 'Scar', 'Friable', 'Sclerosis', 'Pedunculated', 'Exophytic/Fungating', 'Warty/Papillomatous', 'Dome-shaped', 'Flat topped', 'Brown(Hyperpigmentation)', 'Translucent', 'White(Hypopigmentation)', 'Purple', 'Yellow', 'Black', 'Erythema', 'Comedo', 'Lichenification', 'Blue', 'Umbilicated', 'Poikiloderma', 'Salmon', 'Wheal', 'Acuminate', 'Burrow', 'Gray', 'Pigmented', 'Cyst', 'Do not consider this image']\n",
            "   Unnamed: 0                               ImageID  Vesicle  Papule  Macule  \\\n",
            "0           0  eb0cbb277ba6b206c5fafc66ab8c46f9.jpg        0       0       0   \n",
            "1           1  bb3d08781eb23890a9909201deed8c85.jpg        0       0       0   \n",
            "\n",
            "   Plaque  Abscess  Pustule  Bulla  Patch  ...  Umbilicated  Poikiloderma  \\\n",
            "0       0        0        0      0      0  ...            0             0   \n",
            "1       1        0        0      0      0  ...            0             0   \n",
            "\n",
            "   Salmon  Wheal  Acuminate  Burrow  Gray  Pigmented  Cyst  \\\n",
            "0       0      0          0       0     0          0     0   \n",
            "1       0      0          0       0     0          0     0   \n",
            "\n",
            "   Do not consider this image  \n",
            "0                           0  \n",
            "1                           0  \n",
            "\n",
            "[2 rows x 51 columns]\n",
            "\n",
            "/content/drive/MyDrive/499A Datasets/Skincon/extracted/image (1).csv\n",
            "Columns: ['Unnamed: 0', 'ImageID', 'Vesicle', 'Papule', 'Macule', 'Plaque', 'Abscess', 'Pustule', 'Bulla', 'Patch', 'Nodule', 'Ulcer', 'Crust', 'Erosion', 'Excoriation', 'Atrophy', 'Exudate', 'Purpura/Petechiae', 'Fissure', 'Induration', 'Xerosis', 'Telangiectasia', 'Scale', 'Scar', 'Friable', 'Sclerosis', 'Pedunculated', 'Exophytic/Fungating', 'Warty/Papillomatous', 'Dome-shaped', 'Flat topped', 'Brown(Hyperpigmentation)', 'Translucent', 'White(Hypopigmentation)', 'Purple', 'Yellow', 'Black', 'Erythema', 'Comedo', 'Lichenification', 'Blue', 'Umbilicated', 'Poikiloderma', 'Salmon', 'Wheal', 'Acuminate', 'Burrow', 'Gray', 'Pigmented', 'Cyst', 'Do not consider this image']\n",
            "   Unnamed: 0     ImageID  Vesicle  Papule  Macule  Plaque  Abscess  Pustule  \\\n",
            "0           0  000655.png        0       0       0       1        0        0   \n",
            "1           1  000109.png        0       1       0       0        0        0   \n",
            "\n",
            "   Bulla  Patch  ...  Umbilicated  Poikiloderma  Salmon  Wheal  Acuminate  \\\n",
            "0      0      0  ...            0             0       0      0          0   \n",
            "1      0      0  ...            0             0       0      0          0   \n",
            "\n",
            "   Burrow  Gray  Pigmented  Cyst  Do not consider this image  \n",
            "0       0     0          0     0                           0  \n",
            "1       0     0          0     0                           0  \n",
            "\n",
            "[2 rows x 51 columns]\n"
          ]
        }
      ]
    },
    {
      "cell_type": "markdown",
      "source": [
        "imports and setup"
      ],
      "metadata": {
        "id": "p7Gy5IIo-Zyn"
      }
    },
    {
      "cell_type": "code",
      "source": [
        "from torchvision import transforms"
      ],
      "metadata": {
        "id": "EFM8CXwuBH4b"
      },
      "execution_count": 40,
      "outputs": []
    },
    {
      "cell_type": "markdown",
      "source": [
        "paths and metadata load"
      ],
      "metadata": {
        "id": "9vYOZ2XxBUEH"
      }
    },
    {
      "cell_type": "code",
      "source": [
        "# Paths\n",
        "fitzpatrick_csv_path = \"/content/drive/MyDrive/499A Datasets/Skincon/extracted/fitzpatrick17k.csv\"\n",
        "image_csv_path = \"/content/drive/MyDrive/499A Datasets/Skincon/extracted/image.csv\"\n",
        "image1_csv_path = \"/content/drive/MyDrive/499A Datasets/Skincon/extracted/image (1).csv\"\n",
        "preprocessed_img_dir = \"/content/drive/MyDrive/499A Datasets/Skincon/preprocessed/images\"\n",
        "output_preprocessed_csv = \"/content/drive/MyDrive/499A Datasets/Skincon/preprocessed/skincon_preprocessed.csv\"\n",
        "\n",
        "# Load metadata csvs\n",
        "df_meta = pd.read_csv(fitzpatrick_csv_path)\n",
        "df_image = pd.read_csv(image_csv_path)\n",
        "df_image1 = pd.read_csv(image1_csv_path)"
      ],
      "metadata": {
        "id": "iGOrt_HtBXIx"
      },
      "execution_count": 41,
      "outputs": []
    },
    {
      "cell_type": "code",
      "source": [
        "# Create image_path column based on your downloaded images folder structure\n",
        "def get_image_path(md5hash):\n",
        "    # Images saved as md5hash.jpg in class folders (label normalized)\n",
        "    label = df_meta.loc[df_meta['md5hash'] == md5hash, 'label'].values[0].strip().replace(\" \", \"_\").lower()\n",
        "    img_path = os.path.join(preprocessed_img_dir, label, f\"{md5hash}.jpg\")\n",
        "    return img_path if os.path.exists(img_path) else None\n",
        "\n",
        "print(\"Generating image paths...\")\n",
        "df_meta['image_path'] = df_meta['md5hash'].progress_apply(get_image_path)\n",
        "\n",
        "# Filter out missing images\n",
        "df_meta = df_meta.dropna(subset=['image_path']).reset_index(drop=True)"
      ],
      "metadata": {
        "colab": {
          "base_uri": "https://localhost:8080/"
        },
        "id": "eQAeDYnXBvx2",
        "outputId": "f2d9ee32-42ce-46da-efa7-8f481bad8887"
      },
      "execution_count": 42,
      "outputs": [
        {
          "output_type": "stream",
          "name": "stdout",
          "text": [
            "Generating image paths...\n"
          ]
        },
        {
          "output_type": "stream",
          "name": "stderr",
          "text": [
            "100%|██████████| 16577/16577 [00:54<00:00, 303.78it/s]\n"
          ]
        }
      ]
    },
    {
      "cell_type": "markdown",
      "source": [
        "Prepare morphology from image and image(1)"
      ],
      "metadata": {
        "id": "RN5mObJ9CAby"
      }
    },
    {
      "cell_type": "code",
      "source": [
        "# Merge the two morphology annotation files\n",
        "df_morph = pd.concat([df_image, df_image1], ignore_index=True)\n",
        "\n",
        "# Clean 'Unnamed: 0' columns if present\n",
        "df_morph = df_morph.drop(columns=[col for col in df_morph.columns if \"Unnamed\" in col], errors='ignore')\n",
        "\n",
        "# Normalize ImageID format (some have .jpg, some .png)\n",
        "df_morph['ImageID'] = df_morph['ImageID'].str.lower().str.strip()"
      ],
      "metadata": {
        "id": "Oiw8LgOLB-51"
      },
      "execution_count": 43,
      "outputs": []
    },
    {
      "cell_type": "code",
      "source": [
        "# Create a mapping from md5hash to filename\n",
        "df_meta['filename'] = df_meta['md5hash'].str.lower() + \".jpg\"\n",
        "\n",
        "# Since morphology data has ImageID as filename, we join on filename\n",
        "df_merged = pd.merge(df_meta, df_morph, left_on='filename', right_on='ImageID', how='left')\n",
        "\n",
        "print(f\"Merged morphology features: {df_merged.shape}\")\n",
        "\n",
        "# Fill missing morphology features with 0 (meaning no lesion features annotated)\n",
        "morph_cols = df_morph.columns.drop('ImageID')\n",
        "df_merged[morph_cols] = df_merged[morph_cols].fillna(0).astype(int)"
      ],
      "metadata": {
        "colab": {
          "base_uri": "https://localhost:8080/"
        },
        "id": "MuxtPXHACkD8",
        "outputId": "4320749b-f746-4f47-d3e4-476f7ee9759d"
      },
      "execution_count": 44,
      "outputs": [
        {
          "output_type": "stream",
          "name": "stdout",
          "text": [
            "Merged morphology features: (16518, 61)\n"
          ]
        }
      ]
    },
    {
      "cell_type": "code",
      "source": [
        "# Generate descriptive text prompts for VLM models\n",
        "def create_text_prompt(row):\n",
        "    label = row['label'].strip().lower()\n",
        "    morph_features = [col.replace('_', ' ') for col in morph_cols if row[col] == 1]\n",
        "\n",
        "    # Combine label and morphology features if available\n",
        "    if morph_features:\n",
        "        morph_text = \", \".join(morph_features)\n",
        "        prompt = f\"Image of human skin showing {label} with {morph_text}\"\n",
        "    else:\n",
        "        prompt = f\"Image of human skin showing {label}\"\n",
        "    return prompt\n",
        "\n",
        "print(\"Creating text prompts...\")\n",
        "df_merged['text_prompt'] = df_merged.progress_apply(create_text_prompt, axis=1)"
      ],
      "metadata": {
        "colab": {
          "base_uri": "https://localhost:8080/"
        },
        "id": "E-QWEAm2C6x9",
        "outputId": "c327e0bb-dd77-49a2-8c5a-43c3d34c8f02"
      },
      "execution_count": 45,
      "outputs": [
        {
          "output_type": "stream",
          "name": "stdout",
          "text": [
            "Creating text prompts...\n"
          ]
        },
        {
          "output_type": "stream",
          "name": "stderr",
          "text": [
            "100%|██████████| 16518/16518 [00:01<00:00, 8369.97it/s]\n"
          ]
        }
      ]
    },
    {
      "cell_type": "markdown",
      "source": [
        "Lightweight augmentation setup(apply only during training)"
      ],
      "metadata": {
        "id": "Qy5s4BoRDMtY"
      }
    },
    {
      "cell_type": "code",
      "source": [
        "augmentation_transforms = transforms.Compose([\n",
        "    transforms.RandomHorizontalFlip(p=0.5),\n",
        "    transforms.RandomRotation(degrees=15),\n",
        "    transforms.ColorJitter(brightness=0.1, contrast=0.1, saturation=0.1, hue=0.05),\n",
        "])"
      ],
      "metadata": {
        "id": "Bb1iHwdRDbXt"
      },
      "execution_count": 46,
      "outputs": []
    },
    {
      "cell_type": "markdown",
      "source": [
        "Sample function to apply augmentation on image during training"
      ],
      "metadata": {
        "id": "nKtM3aSHDynW"
      }
    },
    {
      "cell_type": "code",
      "source": [
        "def augment_image(image_path):\n",
        "    img = Image.open(image_path).convert('RGB')\n",
        "    img = img.resize((224, 224))\n",
        "    img = augmentation_transforms(img)\n",
        "    return img"
      ],
      "metadata": {
        "id": "SSVXb33qDpEN"
      },
      "execution_count": 47,
      "outputs": []
    },
    {
      "cell_type": "markdown",
      "source": [
        "Final metadata"
      ],
      "metadata": {
        "id": "Z8jAcn1tD4Ss"
      }
    },
    {
      "cell_type": "code",
      "source": [
        "df_merged.to_csv(output_preprocessed_csv, index=False)\n",
        "\n",
        "print(f\"SkinCon preprocessing complete. Output saved to:\\n{output_preprocessed_csv}\")\n",
        "print(f\"Total images processed: {len(df_merged)}\")"
      ],
      "metadata": {
        "colab": {
          "base_uri": "https://localhost:8080/"
        },
        "id": "cFm08vSqD7L9",
        "outputId": "10f4b119-dba6-4809-8ff7-a590b90e2bb3"
      },
      "execution_count": 48,
      "outputs": [
        {
          "output_type": "stream",
          "name": "stdout",
          "text": [
            "SkinCon preprocessing complete. Output saved to:\n",
            "/content/drive/MyDrive/499A Datasets/Skincon/preprocessed/skincon_preprocessed.csv\n",
            "Total images processed: 16518\n"
          ]
        }
      ]
    },
    {
      "cell_type": "markdown",
      "source": [
        "**Herb2.0**"
      ],
      "metadata": {
        "id": "flmEDrknGvgf"
      }
    },
    {
      "cell_type": "code",
      "source": [
        "base_dir = \"/content/drive/MyDrive/499A Datasets\"\n",
        "herb_dir = os.path.join(base_dir, \"Herb2.0/extracted\")"
      ],
      "metadata": {
        "id": "9Qvy-DluO9zK"
      },
      "execution_count": 65,
      "outputs": []
    },
    {
      "cell_type": "code",
      "source": [
        "def load_csv(path):\n",
        "    return pd.read_csv(path, encoding=\"utf-8\", on_bad_lines=\"skip\", engine=\"python\", delimiter=\"\\t\")\n",
        "\n",
        "disease = load_csv(os.path.join(herb_dir, \"_MConverter.eu_HERB_disease_info_v2 - Copy.csv\"))\n",
        "herb = load_csv(os.path.join(herb_dir, \"_MConverter.eu_HERB_herb_info_v2.csv\"))\n",
        "ingredient = load_csv(os.path.join(herb_dir, \"_MConverter.eu_HERB_ingredient_info_v2.csv\"))\n",
        "\n",
        "print(\"Shapes →\", disease.shape, herb.shape, ingredient.shape)"
      ],
      "metadata": {
        "colab": {
          "base_uri": "https://localhost:8080/"
        },
        "id": "Vxo7AVkOPpsH",
        "outputId": "89f3813b-957b-40df-bb2c-a71ea6198940"
      },
      "execution_count": 70,
      "outputs": [
        {
          "output_type": "stream",
          "name": "stdout",
          "text": [
            "Shapes → (30170, 18) (6892, 19) (44595, 24)\n"
          ]
        }
      ]
    },
    {
      "cell_type": "code",
      "source": [
        "print(\"Disease CSV head:\")\n",
        "print(disease.head())\n",
        "\n",
        "print(\"\\nHerb CSV head:\")\n",
        "print(herb.head())\n",
        "\n",
        "print(\"\\nIngredient CSV head:\")\n",
        "print(ingredient.head())"
      ],
      "metadata": {
        "colab": {
          "base_uri": "https://localhost:8080/"
        },
        "id": "oxwvmjhWQEXp",
        "outputId": "74c2ab8a-3219-44f2-abf6-d11f7ecffdc2"
      },
      "execution_count": 71,
      "outputs": [
        {
          "output_type": "stream",
          "name": "stdout",
          "text": [
            "Disease CSV head:\n",
            "    Disease_id         Disease_name  \\\n",
            "0  HBDIS000001       Abdomen, Acute   \n",
            "1  HBDIS000002     Abdominal Cramps   \n",
            "2  HBDIS000003    Abdomen Distended   \n",
            "3  HBDIS000004       Abdominal Mass   \n",
            "4  HBDIS000005  Abdominal Neoplasms   \n",
            "\n",
            "                                  Disease_alias_name DisGeNET_disease_type  \\\n",
            "0                      Acute Abdomen; Abdomen, Acute             phenotype   \n",
            "1           Infantile Colic; Colic; Abdominal Cramps             phenotype   \n",
            "2  Distended Abdomen; Belly Bloating; Bloating; A...             phenotype   \n",
            "3                                     Abdominal Mass             phenotype   \n",
            "4                                Abdominal Neoplasms                 group   \n",
            "\n",
            "    UMLS_disease_type                                 MeSH_disease_class  \\\n",
            "0     Sign or Symptom        Pathological Conditions, Signs and Symptoms   \n",
            "1     Sign or Symptom  Congenital, Hereditary, and Neonatal Diseases ...   \n",
            "2             Finding                          Digestive System Diseases   \n",
            "3             Finding                          Digestive System Diseases   \n",
            "4  Neoplastic Process                                          Neoplasms   \n",
            "\n",
            "                     HPO_disease_class DO_disease_class UMLS_disease_type_id  \\\n",
            "0                                  NaN              NaN                 T184   \n",
            "1                                  NaN              NaN                 T184   \n",
            "2  Abnormality of the digestive system              NaN                 T033   \n",
            "3  Abnormality of the digestive system              NaN                 T033   \n",
            "4                                  NaN              NaN                 T191   \n",
            "\n",
            "  MeSH_disease_class_id HPO_disease_class_id DO_disease_class_id DisGeNET_id  \\\n",
            "0                   C23                  NaN                 NaN    C0000727   \n",
            "1                   C16                  NaN                 NaN    C0000729   \n",
            "2                   C06           HP:0025031                 NaN    C0000731   \n",
            "3                   C06           HP:0025031                 NaN    C0000734   \n",
            "4                   C04                  NaN                 NaN    C0000735   \n",
            "\n",
            "   MeSH_id      HPO_id DO_id ICD10_id OMIM_id  \n",
            "0  D000006         NaN   NaN    R10.0     NaN  \n",
            "1  D003085         NaN   NaN      NaN     NaN  \n",
            "2      NaN  HP:0003270   NaN      NaN     NaN  \n",
            "3      NaN  HP:0031500   NaN      NaN     NaN  \n",
            "4  D000008         NaN   NaN      NaN     NaN  \n",
            "\n",
            "Herb CSV head:\n",
            "      Herb_id           Herb_pinyin_name Herb_cn_name Herb_alias_name  \\\n",
            "0  HERB000001      A Bi Xi Ni Ya Ci Tong      阿比西尼亚刺桐             NaN   \n",
            "1  HERB000002  A Bi Xi Ni Ya Niu Jin Guo     阿比西尼亚牛筋果             NaN   \n",
            "2  HERB000003      A Er Ji Li Ya Mian Ji      阿尔及尔大翅蓟             NaN   \n",
            "3  HERB000004   A Er Ji Li Ya Bu Xue Cao     阿尔及利亚补血草             NaN   \n",
            "4  HERB000005        Xiang Zhua Yuan Wei         香爪鸢尾             NaN   \n",
            "\n",
            "             Herb_en_name        Herb_latin_name Properties Meridians UsePart  \\\n",
            "0     Abyssinia Coralbean   Erythrina Abyssinica        NaN       NaN     NaN   \n",
            "1    Abyssinia Harrisonia  Harrisonia Abyssinica        NaN       NaN     NaN   \n",
            "2  Algerian Cottonthistle   Onopordum Algeriense        NaN       NaN     NaN   \n",
            "3        Algerian Statice    Limonium Bonduellii        NaN       NaN     NaN   \n",
            "4           Algerian Iris      Iris Unguicularis        NaN       NaN     NaN   \n",
            "\n",
            "  Function Indication Toxicity Clinical_manifestations Therapeutic_en_class  \\\n",
            "0      NaN        NaN      NaN                     NaN                  NaN   \n",
            "1      NaN        NaN      NaN                     NaN                  NaN   \n",
            "2      NaN        NaN      NaN                     NaN                  NaN   \n",
            "3      NaN        NaN      NaN                     NaN                  NaN   \n",
            "4      NaN        NaN      NaN                     NaN                  NaN   \n",
            "\n",
            "  Therapeutic_cn_class SymMap_id  TCMID_id  TCMSP_id  TCM_ID_id  \n",
            "0                  NaN       NaN    6286.0       NaN        NaN  \n",
            "1                  NaN       NaN    4984.0       NaN        NaN  \n",
            "2                  NaN       NaN    2229.0       NaN        NaN  \n",
            "3                  NaN       NaN    2187.0       NaN        NaN  \n",
            "4                  NaN       NaN    5086.0       NaN        NaN  \n",
            "\n",
            "Ingredient CSV head:\n",
            "  Ingredient_id                           Ingredient_name  \\\n",
            "0    HBIN000001  Oleanolic acid-3-o-beta-d-xylopyranoside   \n",
            "1    HBIN000002                            Granatan-3-one   \n",
            "2    HBIN000003                         0-dimethoxbenzene   \n",
            "3    HBIN000004                             0-ethylcumene   \n",
            "4    HBIN000005                      0-methylacetophenone   \n",
            "\n",
            "                               Ingredient_alias_name Molecular_formula  \\\n",
            "0  Songoroside A; 61617-29-6; CHEMBL506630; SCHEM...          C35H56O7   \n",
            "1  pseudo-Pelletierine; Pseudopelletierin; USN3FV...           C9H15NO   \n",
            "2                                                NaN               NaN   \n",
            "3                                                NaN               NaN   \n",
            "4                                                NaN               NaN   \n",
            "\n",
            "                                    Canonical_smiles  \\\n",
            "0  CC1(CCC2(CCC3(C(=CCC4C3(CCC5C4(CCC(C5(C)C)OC6C...   \n",
            "1                                 CN1C2CCCC1CC(=O)C2   \n",
            "2                                                NaN   \n",
            "3                                                NaN   \n",
            "4                                                NaN   \n",
            "\n",
            "                                     Isomeric_smiles  \\\n",
            "0  C[C@]12CC[C@@H](C([C@@H]1CC[C@@]3([C@@H]2CC=C4...   \n",
            "1                        CN1[C@@H]2CCC[C@H]1CC(=O)C2   \n",
            "2                                                NaN   \n",
            "3                                                NaN   \n",
            "4                                                NaN   \n",
            "\n",
            "                                               InChI  \\\n",
            "0  InChI=1S/C35H56O7/c1-30(2)14-16-35(29(39)40)17...   \n",
            "1  InChI=1S/C9H15NO/c1-10-7-3-2-4-8(10)6-9(11)5-7...   \n",
            "2                                                NaN   \n",
            "3                                                NaN   \n",
            "4                                                NaN   \n",
            "\n",
            "                      InChIKey    MolWt  NumHAcceptors  ...  OB_score  \\\n",
            "0  HZLWUYJLOIAQFC-SMRQUVCNSA-N  588.826            6.0  ...       NaN   \n",
            "1  RHWSKVCZXBAWLZ-OCAPTIKFSA-N  153.225            2.0  ...    43.636   \n",
            "2                          NaN      NaN            NaN  ...       NaN   \n",
            "3                          NaN      NaN            NaN  ...       NaN   \n",
            "4                          NaN      NaN            NaN  ...       NaN   \n",
            "\n",
            "     CAS_id  SymMap_id      TCMID_id   TCMSP_id TCM_ID_id  PubChem_id  \\\n",
            "0       NaN        NaN  36493; 22823        NaN       NaN  13878128.0   \n",
            "1  552-70-5  SMIT10430         18041  MOL009271      1501   6602484.0   \n",
            "2       NaN        NaN           NaN        NaN      9737         NaN   \n",
            "3       NaN        NaN           NaN        NaN      9736         NaN   \n",
            "4       NaN        NaN           NaN        NaN      9735         NaN   \n",
            "\n",
            "  DrugBank_id   NPASS_id HIT_id  \n",
            "0         NaN        NaN    NaN  \n",
            "1         NaN  NPC248956    NaN  \n",
            "2         NaN        NaN    NaN  \n",
            "3         NaN        NaN    NaN  \n",
            "4         NaN        NaN    NaN  \n",
            "\n",
            "[5 rows x 24 columns]\n"
          ]
        }
      ]
    },
    {
      "cell_type": "markdown",
      "source": [
        "Columns name"
      ],
      "metadata": {
        "id": "YUJH5cGLQLSd"
      }
    },
    {
      "cell_type": "code",
      "source": [
        "print(\"Disease columns:\")\n",
        "print(disease.columns.tolist())\n",
        "\n",
        "print(\"\\nHerb columns:\")\n",
        "print(herb.columns.tolist())\n",
        "\n",
        "print(\"\\nIngredient columns:\")\n",
        "print(ingredient.columns.tolist())\n"
      ],
      "metadata": {
        "colab": {
          "base_uri": "https://localhost:8080/"
        },
        "id": "7OgsyIe8QOg3",
        "outputId": "289c999f-7247-4f78-e74d-a3d1b85327e7"
      },
      "execution_count": 72,
      "outputs": [
        {
          "output_type": "stream",
          "name": "stdout",
          "text": [
            "Disease columns:\n",
            "['Disease_id', 'Disease_name', 'Disease_alias_name', 'DisGeNET_disease_type', 'UMLS_disease_type', 'MeSH_disease_class', 'HPO_disease_class', 'DO_disease_class', 'UMLS_disease_type_id', 'MeSH_disease_class_id', 'HPO_disease_class_id', 'DO_disease_class_id', 'DisGeNET_id', 'MeSH_id', 'HPO_id', 'DO_id', 'ICD10_id', 'OMIM_id']\n",
            "\n",
            "Herb columns:\n",
            "['Herb_id', 'Herb_pinyin_name', 'Herb_cn_name', 'Herb_alias_name', 'Herb_en_name', 'Herb_latin_name', 'Properties', 'Meridians', 'UsePart', 'Function', 'Indication', 'Toxicity', 'Clinical_manifestations', 'Therapeutic_en_class', 'Therapeutic_cn_class', 'SymMap_id', 'TCMID_id', 'TCMSP_id', 'TCM_ID_id']\n",
            "\n",
            "Ingredient columns:\n",
            "['Ingredient_id', 'Ingredient_name', 'Ingredient_alias_name', 'Molecular_formula', 'Canonical_smiles', 'Isomeric_smiles', 'InChI', 'InChIKey', 'MolWt', 'NumHAcceptors', 'NumHDonors', 'MolLogP', 'NumRotatableBonds', 'Drug_likeness', 'OB_score', 'CAS_id', 'SymMap_id', 'TCMID_id', 'TCMSP_id', 'TCM_ID_id', 'PubChem_id', 'DrugBank_id', 'NPASS_id', 'HIT_id']\n"
          ]
        }
      ]
    },
    {
      "cell_type": "markdown",
      "source": [
        "Select necessrary columns"
      ],
      "metadata": {
        "id": "TKM1mzWTRSNp"
      }
    },
    {
      "cell_type": "code",
      "source": [
        "disease = disease[[\n",
        "    \"Disease_id\", \"Disease_name\", \"Disease_alias_name\",\n",
        "    \"UMLS_disease_type\", \"MeSH_disease_class\"\n",
        "]]\n",
        "\n",
        "herb = herb[[\n",
        "    \"Herb_id\", \"Herb_en_name\", \"Herb_latin_name\",\n",
        "    \"Properties\", \"Meridians\", \"UsePart\",\n",
        "    \"Function\", \"Indication\", \"Toxicity\"\n",
        "]]\n",
        "\n",
        "ingredient = ingredient[[\n",
        "    \"Ingredient_id\", \"Ingredient_name\", \"Ingredient_alias_name\",\n",
        "    \"Molecular_formula\", \"Drug_likeness\", \"OB_score\",\n",
        "    \"CAS_id\", \"PubChem_id\"\n",
        "]]"
      ],
      "metadata": {
        "id": "GKZT6u-FRR-z"
      },
      "execution_count": 73,
      "outputs": []
    },
    {
      "cell_type": "markdown",
      "source": [
        "Basic Cleaning"
      ],
      "metadata": {
        "id": "pO_ImNU6R3Ba"
      }
    },
    {
      "cell_type": "code",
      "source": [
        "for df in [disease, herb, ingredient]:\n",
        "    df.drop_duplicates(inplace=True)\n",
        "    df.replace(\"NA\", np.nan, inplace=True)\n",
        "    df.fillna(\"\", inplace=True)"
      ],
      "metadata": {
        "colab": {
          "base_uri": "https://localhost:8080/"
        },
        "id": "LY-j_fB_R5EG",
        "outputId": "f645cce5-7c63-413f-96b1-0a7462b36fe1"
      },
      "execution_count": 74,
      "outputs": [
        {
          "output_type": "stream",
          "name": "stderr",
          "text": [
            "/tmp/ipython-input-4182852707.py:4: FutureWarning: Setting an item of incompatible dtype is deprecated and will raise an error in a future version of pandas. Value '' has dtype incompatible with float64, please explicitly cast to a compatible dtype first.\n",
            "  df.fillna(\"\", inplace=True)\n"
          ]
        }
      ]
    },
    {
      "cell_type": "markdown",
      "source": [
        "Merging"
      ],
      "metadata": {
        "id": "pYuqZO7NSW50"
      }
    },
    {
      "cell_type": "code",
      "source": [
        "merged = herb.merge(ingredient, how=\"outer\", left_index=True, right_index=True, suffixes=(\"_herb\", \"_ing\"))\n",
        "merged = merged.merge(disease, how=\"outer\", left_index=True, right_index=True)\n",
        "\n",
        "print(\"Merged shape:\", merged.shape)"
      ],
      "metadata": {
        "colab": {
          "base_uri": "https://localhost:8080/"
        },
        "id": "l-mY6aOKSYWh",
        "outputId": "18a82abc-4e63-430b-bd97-ce3e814f3477"
      },
      "execution_count": 75,
      "outputs": [
        {
          "output_type": "stream",
          "name": "stdout",
          "text": [
            "Merged shape: (44595, 22)\n"
          ]
        }
      ]
    },
    {
      "cell_type": "markdown",
      "source": [
        "A sigle text column for VLM"
      ],
      "metadata": {
        "id": "8N9wUTfISgD7"
      }
    },
    {
      "cell_type": "code",
      "source": [
        "def join_text(row):\n",
        "    fields = [\n",
        "        row.get(\"Herb_en_name\", \"\"), row.get(\"Herb_latin_name\", \"\"),\n",
        "        row.get(\"Function\", \"\"), row.get(\"Indication\", \"\"),\n",
        "        row.get(\"Properties\", \"\"), row.get(\"Meridians\", \"\"),\n",
        "        row.get(\"Ingredient_name\", \"\"), row.get(\"Molecular_formula\", \"\"),\n",
        "        row.get(\"Disease_name\", \"\"), row.get(\"UMLS_disease_type\", \"\"),\n",
        "        row.get(\"MeSH_disease_class\", \"\"), row.get(\"Toxicity\", \"\")\n",
        "    ]\n",
        "    return \" | \".join([str(x).strip() for x in fields if str(x).strip()])\n",
        "\n",
        "merged[\"text_for_vlm\"] = merged.apply(join_text, axis=1)\n",
        "merged = merged[merged[\"text_for_vlm\"].str.len() > 0].reset_index(drop=True)"
      ],
      "metadata": {
        "id": "HZGe1HRRSjwl"
      },
      "execution_count": 76,
      "outputs": []
    },
    {
      "cell_type": "code",
      "source": [
        "from pathlib import Path\n",
        "pre_dir = os.path.join(base_dir, \"Preprocessed\")\n",
        "Path(pre_dir).mkdir(parents=True, exist_ok=True)\n",
        "\n",
        "csv_path = os.path.join(pre_dir, \"herb2_final_clean.csv\")\n",
        "merged.to_csv(csv_path, index=False)\n",
        "print(\"Cleaned HERB 2.0 saved to:\", csv_path)"
      ],
      "metadata": {
        "colab": {
          "base_uri": "https://localhost:8080/"
        },
        "id": "D_xedkhXStg8",
        "outputId": "a523659c-ee7f-4421-b709-53312511f871"
      },
      "execution_count": 77,
      "outputs": [
        {
          "output_type": "stream",
          "name": "stdout",
          "text": [
            "Cleaned HERB 2.0 saved to: /content/drive/MyDrive/499A Datasets/Preprocessed/herb2_final_clean.csv\n"
          ]
        }
      ]
    },
    {
      "cell_type": "code",
      "source": [
        "print(\"Rows:\", len(merged))\n",
        "print(\"Unique herbs:\", merged['Herb_en_name'].nunique())\n",
        "print(\"Unique ingredients:\", merged['Ingredient_name'].nunique())\n",
        "print(\"Unique diseases:\", merged['Disease_name'].nunique())\n",
        "\n",
        "merged.head(5)"
      ],
      "metadata": {
        "colab": {
          "base_uri": "https://localhost:8080/",
          "height": 620
        },
        "id": "7PJlSjY4TF77",
        "outputId": "3e9a7a73-52b9-489a-9720-d70102df30a4"
      },
      "execution_count": 78,
      "outputs": [
        {
          "output_type": "stream",
          "name": "stdout",
          "text": [
            "Rows: 44595\n",
            "Unique herbs: 6255\n",
            "Unique ingredients: 44541\n",
            "Unique diseases: 30170\n"
          ]
        },
        {
          "output_type": "execute_result",
          "data": {
            "text/plain": [
              "      Herb_id            Herb_en_name        Herb_latin_name Properties  \\\n",
              "0  HERB000001     Abyssinia Coralbean   Erythrina Abyssinica              \n",
              "1  HERB000002    Abyssinia Harrisonia  Harrisonia Abyssinica              \n",
              "2  HERB000003  Algerian Cottonthistle   Onopordum Algeriense              \n",
              "3  HERB000004        Algerian Statice    Limonium Bonduellii              \n",
              "4  HERB000005           Algerian Iris      Iris Unguicularis              \n",
              "\n",
              "  Meridians UsePart Function Indication Toxicity Ingredient_id  ...  \\\n",
              "0                                                   HBIN000001  ...   \n",
              "1                                                   HBIN000002  ...   \n",
              "2                                                   HBIN000003  ...   \n",
              "3                                                   HBIN000004  ...   \n",
              "4                                                   HBIN000005  ...   \n",
              "\n",
              "  Drug_likeness OB_score    CAS_id  PubChem_id   Disease_id  \\\n",
              "0         0.247                     13878128.0  HBDIS000001   \n",
              "1         0.521   43.636  552-70-5   6602484.0  HBDIS000002   \n",
              "2                                               HBDIS000003   \n",
              "3                                               HBDIS000004   \n",
              "4                                               HBDIS000005   \n",
              "\n",
              "          Disease_name                                 Disease_alias_name  \\\n",
              "0       Abdomen, Acute                      Acute Abdomen; Abdomen, Acute   \n",
              "1     Abdominal Cramps           Infantile Colic; Colic; Abdominal Cramps   \n",
              "2    Abdomen Distended  Distended Abdomen; Belly Bloating; Bloating; A...   \n",
              "3       Abdominal Mass                                     Abdominal Mass   \n",
              "4  Abdominal Neoplasms                                Abdominal Neoplasms   \n",
              "\n",
              "    UMLS_disease_type                                 MeSH_disease_class  \\\n",
              "0     Sign or Symptom        Pathological Conditions, Signs and Symptoms   \n",
              "1     Sign or Symptom  Congenital, Hereditary, and Neonatal Diseases ...   \n",
              "2             Finding                          Digestive System Diseases   \n",
              "3             Finding                          Digestive System Diseases   \n",
              "4  Neoplastic Process                                          Neoplasms   \n",
              "\n",
              "                                        text_for_vlm  \n",
              "0  Abyssinia Coralbean | Erythrina Abyssinica | O...  \n",
              "1  Abyssinia Harrisonia | Harrisonia Abyssinica |...  \n",
              "2  Algerian Cottonthistle | Onopordum Algeriense ...  \n",
              "3  Algerian Statice | Limonium Bonduellii | 0-eth...  \n",
              "4  Algerian Iris | Iris Unguicularis | 0-methylac...  \n",
              "\n",
              "[5 rows x 23 columns]"
            ],
            "text/html": [
              "\n",
              "  <div id=\"df-3f158db2-23bb-4bd0-984e-9fbdfd82f322\" class=\"colab-df-container\">\n",
              "    <div>\n",
              "<style scoped>\n",
              "    .dataframe tbody tr th:only-of-type {\n",
              "        vertical-align: middle;\n",
              "    }\n",
              "\n",
              "    .dataframe tbody tr th {\n",
              "        vertical-align: top;\n",
              "    }\n",
              "\n",
              "    .dataframe thead th {\n",
              "        text-align: right;\n",
              "    }\n",
              "</style>\n",
              "<table border=\"1\" class=\"dataframe\">\n",
              "  <thead>\n",
              "    <tr style=\"text-align: right;\">\n",
              "      <th></th>\n",
              "      <th>Herb_id</th>\n",
              "      <th>Herb_en_name</th>\n",
              "      <th>Herb_latin_name</th>\n",
              "      <th>Properties</th>\n",
              "      <th>Meridians</th>\n",
              "      <th>UsePart</th>\n",
              "      <th>Function</th>\n",
              "      <th>Indication</th>\n",
              "      <th>Toxicity</th>\n",
              "      <th>Ingredient_id</th>\n",
              "      <th>...</th>\n",
              "      <th>Drug_likeness</th>\n",
              "      <th>OB_score</th>\n",
              "      <th>CAS_id</th>\n",
              "      <th>PubChem_id</th>\n",
              "      <th>Disease_id</th>\n",
              "      <th>Disease_name</th>\n",
              "      <th>Disease_alias_name</th>\n",
              "      <th>UMLS_disease_type</th>\n",
              "      <th>MeSH_disease_class</th>\n",
              "      <th>text_for_vlm</th>\n",
              "    </tr>\n",
              "  </thead>\n",
              "  <tbody>\n",
              "    <tr>\n",
              "      <th>0</th>\n",
              "      <td>HERB000001</td>\n",
              "      <td>Abyssinia Coralbean</td>\n",
              "      <td>Erythrina Abyssinica</td>\n",
              "      <td></td>\n",
              "      <td></td>\n",
              "      <td></td>\n",
              "      <td></td>\n",
              "      <td></td>\n",
              "      <td></td>\n",
              "      <td>HBIN000001</td>\n",
              "      <td>...</td>\n",
              "      <td>0.247</td>\n",
              "      <td></td>\n",
              "      <td></td>\n",
              "      <td>13878128.0</td>\n",
              "      <td>HBDIS000001</td>\n",
              "      <td>Abdomen, Acute</td>\n",
              "      <td>Acute Abdomen; Abdomen, Acute</td>\n",
              "      <td>Sign or Symptom</td>\n",
              "      <td>Pathological Conditions, Signs and Symptoms</td>\n",
              "      <td>Abyssinia Coralbean | Erythrina Abyssinica | O...</td>\n",
              "    </tr>\n",
              "    <tr>\n",
              "      <th>1</th>\n",
              "      <td>HERB000002</td>\n",
              "      <td>Abyssinia Harrisonia</td>\n",
              "      <td>Harrisonia Abyssinica</td>\n",
              "      <td></td>\n",
              "      <td></td>\n",
              "      <td></td>\n",
              "      <td></td>\n",
              "      <td></td>\n",
              "      <td></td>\n",
              "      <td>HBIN000002</td>\n",
              "      <td>...</td>\n",
              "      <td>0.521</td>\n",
              "      <td>43.636</td>\n",
              "      <td>552-70-5</td>\n",
              "      <td>6602484.0</td>\n",
              "      <td>HBDIS000002</td>\n",
              "      <td>Abdominal Cramps</td>\n",
              "      <td>Infantile Colic; Colic; Abdominal Cramps</td>\n",
              "      <td>Sign or Symptom</td>\n",
              "      <td>Congenital, Hereditary, and Neonatal Diseases ...</td>\n",
              "      <td>Abyssinia Harrisonia | Harrisonia Abyssinica |...</td>\n",
              "    </tr>\n",
              "    <tr>\n",
              "      <th>2</th>\n",
              "      <td>HERB000003</td>\n",
              "      <td>Algerian Cottonthistle</td>\n",
              "      <td>Onopordum Algeriense</td>\n",
              "      <td></td>\n",
              "      <td></td>\n",
              "      <td></td>\n",
              "      <td></td>\n",
              "      <td></td>\n",
              "      <td></td>\n",
              "      <td>HBIN000003</td>\n",
              "      <td>...</td>\n",
              "      <td></td>\n",
              "      <td></td>\n",
              "      <td></td>\n",
              "      <td></td>\n",
              "      <td>HBDIS000003</td>\n",
              "      <td>Abdomen Distended</td>\n",
              "      <td>Distended Abdomen; Belly Bloating; Bloating; A...</td>\n",
              "      <td>Finding</td>\n",
              "      <td>Digestive System Diseases</td>\n",
              "      <td>Algerian Cottonthistle | Onopordum Algeriense ...</td>\n",
              "    </tr>\n",
              "    <tr>\n",
              "      <th>3</th>\n",
              "      <td>HERB000004</td>\n",
              "      <td>Algerian Statice</td>\n",
              "      <td>Limonium Bonduellii</td>\n",
              "      <td></td>\n",
              "      <td></td>\n",
              "      <td></td>\n",
              "      <td></td>\n",
              "      <td></td>\n",
              "      <td></td>\n",
              "      <td>HBIN000004</td>\n",
              "      <td>...</td>\n",
              "      <td></td>\n",
              "      <td></td>\n",
              "      <td></td>\n",
              "      <td></td>\n",
              "      <td>HBDIS000004</td>\n",
              "      <td>Abdominal Mass</td>\n",
              "      <td>Abdominal Mass</td>\n",
              "      <td>Finding</td>\n",
              "      <td>Digestive System Diseases</td>\n",
              "      <td>Algerian Statice | Limonium Bonduellii | 0-eth...</td>\n",
              "    </tr>\n",
              "    <tr>\n",
              "      <th>4</th>\n",
              "      <td>HERB000005</td>\n",
              "      <td>Algerian Iris</td>\n",
              "      <td>Iris Unguicularis</td>\n",
              "      <td></td>\n",
              "      <td></td>\n",
              "      <td></td>\n",
              "      <td></td>\n",
              "      <td></td>\n",
              "      <td></td>\n",
              "      <td>HBIN000005</td>\n",
              "      <td>...</td>\n",
              "      <td></td>\n",
              "      <td></td>\n",
              "      <td></td>\n",
              "      <td></td>\n",
              "      <td>HBDIS000005</td>\n",
              "      <td>Abdominal Neoplasms</td>\n",
              "      <td>Abdominal Neoplasms</td>\n",
              "      <td>Neoplastic Process</td>\n",
              "      <td>Neoplasms</td>\n",
              "      <td>Algerian Iris | Iris Unguicularis | 0-methylac...</td>\n",
              "    </tr>\n",
              "  </tbody>\n",
              "</table>\n",
              "<p>5 rows × 23 columns</p>\n",
              "</div>\n",
              "    <div class=\"colab-df-buttons\">\n",
              "\n",
              "  <div class=\"colab-df-container\">\n",
              "    <button class=\"colab-df-convert\" onclick=\"convertToInteractive('df-3f158db2-23bb-4bd0-984e-9fbdfd82f322')\"\n",
              "            title=\"Convert this dataframe to an interactive table.\"\n",
              "            style=\"display:none;\">\n",
              "\n",
              "  <svg xmlns=\"http://www.w3.org/2000/svg\" height=\"24px\" viewBox=\"0 -960 960 960\">\n",
              "    <path d=\"M120-120v-720h720v720H120Zm60-500h600v-160H180v160Zm220 220h160v-160H400v160Zm0 220h160v-160H400v160ZM180-400h160v-160H180v160Zm440 0h160v-160H620v160ZM180-180h160v-160H180v160Zm440 0h160v-160H620v160Z\"/>\n",
              "  </svg>\n",
              "    </button>\n",
              "\n",
              "  <style>\n",
              "    .colab-df-container {\n",
              "      display:flex;\n",
              "      gap: 12px;\n",
              "    }\n",
              "\n",
              "    .colab-df-convert {\n",
              "      background-color: #E8F0FE;\n",
              "      border: none;\n",
              "      border-radius: 50%;\n",
              "      cursor: pointer;\n",
              "      display: none;\n",
              "      fill: #1967D2;\n",
              "      height: 32px;\n",
              "      padding: 0 0 0 0;\n",
              "      width: 32px;\n",
              "    }\n",
              "\n",
              "    .colab-df-convert:hover {\n",
              "      background-color: #E2EBFA;\n",
              "      box-shadow: 0px 1px 2px rgba(60, 64, 67, 0.3), 0px 1px 3px 1px rgba(60, 64, 67, 0.15);\n",
              "      fill: #174EA6;\n",
              "    }\n",
              "\n",
              "    .colab-df-buttons div {\n",
              "      margin-bottom: 4px;\n",
              "    }\n",
              "\n",
              "    [theme=dark] .colab-df-convert {\n",
              "      background-color: #3B4455;\n",
              "      fill: #D2E3FC;\n",
              "    }\n",
              "\n",
              "    [theme=dark] .colab-df-convert:hover {\n",
              "      background-color: #434B5C;\n",
              "      box-shadow: 0px 1px 3px 1px rgba(0, 0, 0, 0.15);\n",
              "      filter: drop-shadow(0px 1px 2px rgba(0, 0, 0, 0.3));\n",
              "      fill: #FFFFFF;\n",
              "    }\n",
              "  </style>\n",
              "\n",
              "    <script>\n",
              "      const buttonEl =\n",
              "        document.querySelector('#df-3f158db2-23bb-4bd0-984e-9fbdfd82f322 button.colab-df-convert');\n",
              "      buttonEl.style.display =\n",
              "        google.colab.kernel.accessAllowed ? 'block' : 'none';\n",
              "\n",
              "      async function convertToInteractive(key) {\n",
              "        const element = document.querySelector('#df-3f158db2-23bb-4bd0-984e-9fbdfd82f322');\n",
              "        const dataTable =\n",
              "          await google.colab.kernel.invokeFunction('convertToInteractive',\n",
              "                                                    [key], {});\n",
              "        if (!dataTable) return;\n",
              "\n",
              "        const docLinkHtml = 'Like what you see? Visit the ' +\n",
              "          '<a target=\"_blank\" href=https://colab.research.google.com/notebooks/data_table.ipynb>data table notebook</a>'\n",
              "          + ' to learn more about interactive tables.';\n",
              "        element.innerHTML = '';\n",
              "        dataTable['output_type'] = 'display_data';\n",
              "        await google.colab.output.renderOutput(dataTable, element);\n",
              "        const docLink = document.createElement('div');\n",
              "        docLink.innerHTML = docLinkHtml;\n",
              "        element.appendChild(docLink);\n",
              "      }\n",
              "    </script>\n",
              "  </div>\n",
              "\n",
              "\n",
              "    <div id=\"df-731c56c7-659d-4833-94d4-cf2791c9cfb1\">\n",
              "      <button class=\"colab-df-quickchart\" onclick=\"quickchart('df-731c56c7-659d-4833-94d4-cf2791c9cfb1')\"\n",
              "                title=\"Suggest charts\"\n",
              "                style=\"display:none;\">\n",
              "\n",
              "<svg xmlns=\"http://www.w3.org/2000/svg\" height=\"24px\"viewBox=\"0 0 24 24\"\n",
              "     width=\"24px\">\n",
              "    <g>\n",
              "        <path d=\"M19 3H5c-1.1 0-2 .9-2 2v14c0 1.1.9 2 2 2h14c1.1 0 2-.9 2-2V5c0-1.1-.9-2-2-2zM9 17H7v-7h2v7zm4 0h-2V7h2v10zm4 0h-2v-4h2v4z\"/>\n",
              "    </g>\n",
              "</svg>\n",
              "      </button>\n",
              "\n",
              "<style>\n",
              "  .colab-df-quickchart {\n",
              "      --bg-color: #E8F0FE;\n",
              "      --fill-color: #1967D2;\n",
              "      --hover-bg-color: #E2EBFA;\n",
              "      --hover-fill-color: #174EA6;\n",
              "      --disabled-fill-color: #AAA;\n",
              "      --disabled-bg-color: #DDD;\n",
              "  }\n",
              "\n",
              "  [theme=dark] .colab-df-quickchart {\n",
              "      --bg-color: #3B4455;\n",
              "      --fill-color: #D2E3FC;\n",
              "      --hover-bg-color: #434B5C;\n",
              "      --hover-fill-color: #FFFFFF;\n",
              "      --disabled-bg-color: #3B4455;\n",
              "      --disabled-fill-color: #666;\n",
              "  }\n",
              "\n",
              "  .colab-df-quickchart {\n",
              "    background-color: var(--bg-color);\n",
              "    border: none;\n",
              "    border-radius: 50%;\n",
              "    cursor: pointer;\n",
              "    display: none;\n",
              "    fill: var(--fill-color);\n",
              "    height: 32px;\n",
              "    padding: 0;\n",
              "    width: 32px;\n",
              "  }\n",
              "\n",
              "  .colab-df-quickchart:hover {\n",
              "    background-color: var(--hover-bg-color);\n",
              "    box-shadow: 0 1px 2px rgba(60, 64, 67, 0.3), 0 1px 3px 1px rgba(60, 64, 67, 0.15);\n",
              "    fill: var(--button-hover-fill-color);\n",
              "  }\n",
              "\n",
              "  .colab-df-quickchart-complete:disabled,\n",
              "  .colab-df-quickchart-complete:disabled:hover {\n",
              "    background-color: var(--disabled-bg-color);\n",
              "    fill: var(--disabled-fill-color);\n",
              "    box-shadow: none;\n",
              "  }\n",
              "\n",
              "  .colab-df-spinner {\n",
              "    border: 2px solid var(--fill-color);\n",
              "    border-color: transparent;\n",
              "    border-bottom-color: var(--fill-color);\n",
              "    animation:\n",
              "      spin 1s steps(1) infinite;\n",
              "  }\n",
              "\n",
              "  @keyframes spin {\n",
              "    0% {\n",
              "      border-color: transparent;\n",
              "      border-bottom-color: var(--fill-color);\n",
              "      border-left-color: var(--fill-color);\n",
              "    }\n",
              "    20% {\n",
              "      border-color: transparent;\n",
              "      border-left-color: var(--fill-color);\n",
              "      border-top-color: var(--fill-color);\n",
              "    }\n",
              "    30% {\n",
              "      border-color: transparent;\n",
              "      border-left-color: var(--fill-color);\n",
              "      border-top-color: var(--fill-color);\n",
              "      border-right-color: var(--fill-color);\n",
              "    }\n",
              "    40% {\n",
              "      border-color: transparent;\n",
              "      border-right-color: var(--fill-color);\n",
              "      border-top-color: var(--fill-color);\n",
              "    }\n",
              "    60% {\n",
              "      border-color: transparent;\n",
              "      border-right-color: var(--fill-color);\n",
              "    }\n",
              "    80% {\n",
              "      border-color: transparent;\n",
              "      border-right-color: var(--fill-color);\n",
              "      border-bottom-color: var(--fill-color);\n",
              "    }\n",
              "    90% {\n",
              "      border-color: transparent;\n",
              "      border-bottom-color: var(--fill-color);\n",
              "    }\n",
              "  }\n",
              "</style>\n",
              "\n",
              "      <script>\n",
              "        async function quickchart(key) {\n",
              "          const quickchartButtonEl =\n",
              "            document.querySelector('#' + key + ' button');\n",
              "          quickchartButtonEl.disabled = true;  // To prevent multiple clicks.\n",
              "          quickchartButtonEl.classList.add('colab-df-spinner');\n",
              "          try {\n",
              "            const charts = await google.colab.kernel.invokeFunction(\n",
              "                'suggestCharts', [key], {});\n",
              "          } catch (error) {\n",
              "            console.error('Error during call to suggestCharts:', error);\n",
              "          }\n",
              "          quickchartButtonEl.classList.remove('colab-df-spinner');\n",
              "          quickchartButtonEl.classList.add('colab-df-quickchart-complete');\n",
              "        }\n",
              "        (() => {\n",
              "          let quickchartButtonEl =\n",
              "            document.querySelector('#df-731c56c7-659d-4833-94d4-cf2791c9cfb1 button');\n",
              "          quickchartButtonEl.style.display =\n",
              "            google.colab.kernel.accessAllowed ? 'block' : 'none';\n",
              "        })();\n",
              "      </script>\n",
              "    </div>\n",
              "\n",
              "    </div>\n",
              "  </div>\n"
            ],
            "application/vnd.google.colaboratory.intrinsic+json": {
              "type": "dataframe",
              "variable_name": "merged"
            }
          },
          "metadata": {},
          "execution_count": 78
        }
      ]
    }
  ]
}